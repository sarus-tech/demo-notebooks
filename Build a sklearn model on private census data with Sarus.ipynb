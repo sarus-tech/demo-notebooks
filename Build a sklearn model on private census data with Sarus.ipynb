{
 "cells": [
  {
   "cell_type": "markdown",
   "metadata": {},
   "source": [
    "# Sarus Demo - Build a sklearn model on private census data"
   ]
  },
  {
   "cell_type": "markdown",
   "metadata": {},
   "source": [
    "### Installing Sarus & loading Sarus version of my usual libraries"
   ]
  },
  {
   "cell_type": "code",
   "execution_count": 1,
   "metadata": {},
   "outputs": [],
   "source": [
    "%%capture\n",
    "!pip install sarus==0.4.2 sarus[sklearn] --pre -U "
   ]
  },
  {
   "cell_type": "code",
   "execution_count": 2,
   "metadata": {},
   "outputs": [],
   "source": [
    "# Just add \"sarus.\" to the import lines for standard libraries\n",
    "import sarus.pandas as pd \n",
    "from sarus.sklearn.preprocessing import LabelEncoder\n",
    "from sarus.sklearn.model_selection import train_test_split\n",
    "from sarus.sklearn.ensemble import RandomForestClassifier\n",
    "from sarus.sklearn.metrics import accuracy_score"
   ]
  },
  {
   "cell_type": "markdown",
   "metadata": {},
   "source": [
    "### Selecting protected data and exploring it"
   ]
  },
  {
   "cell_type": "code",
   "execution_count": 3,
   "metadata": {},
   "outputs": [],
   "source": [
    "from sarus import Client"
   ]
  },
  {
   "cell_type": "code",
   "execution_count": 4,
   "metadata": {},
   "outputs": [
    {
     "name": "stdout",
     "output_type": "stream",
     "text": [
      "Password: ········\n"
     ]
    }
   ],
   "source": [
    "client = Client(url=\"https://admin.sarus.tech:5000\", email=\"analyst@example.com\") # Use your instance & credentials"
   ]
  },
  {
   "cell_type": "code",
   "execution_count": 5,
   "metadata": {},
   "outputs": [
    {
     "data": {
      "text/plain": [
       "[<Sarus Dataset slugname=census id=29>,\n",
       " <Sarus Dataset slugname=london_bicycle_hires id=8>,\n",
       " <Sarus Dataset slugname=patient_data id=2>]"
      ]
     },
     "execution_count": 5,
     "metadata": {},
     "output_type": "execute_result"
    }
   ],
   "source": [
    "client.list_datasets()"
   ]
  },
  {
   "cell_type": "code",
   "execution_count": 6,
   "metadata": {},
   "outputs": [],
   "source": [
    "remote_dataset = client.dataset(slugname=\"census\")"
   ]
  },
  {
   "cell_type": "code",
   "execution_count": 7,
   "metadata": {},
   "outputs": [
    {
     "data": {
      "text/plain": [
       "[['census']]"
      ]
     },
     "execution_count": 7,
     "metadata": {},
     "output_type": "execute_result"
    }
   ],
   "source": [
    "remote_dataset.tables()"
   ]
  },
  {
   "cell_type": "code",
   "execution_count": 8,
   "metadata": {},
   "outputs": [],
   "source": [
    "df = remote_dataset.table(['census']).as_pandas()"
   ]
  },
  {
   "cell_type": "code",
   "execution_count": 9,
   "metadata": {
    "scrolled": false
   },
   "outputs": [
    {
     "data": {
      "text/html": [
       "<div>\n",
       "<style scoped>\n",
       "    .dataframe tbody tr th:only-of-type {\n",
       "        vertical-align: middle;\n",
       "    }\n",
       "\n",
       "    .dataframe tbody tr th {\n",
       "        vertical-align: top;\n",
       "    }\n",
       "\n",
       "    .dataframe thead th {\n",
       "        text-align: right;\n",
       "    }\n",
       "</style>\n",
       "<table border=\"1\" class=\"dataframe\">\n",
       "  <thead>\n",
       "    <tr style=\"text-align: right;\">\n",
       "      <th></th>\n",
       "      <th>age</th>\n",
       "      <th>workclass</th>\n",
       "      <th>fnlwgt</th>\n",
       "      <th>education</th>\n",
       "      <th>education_num</th>\n",
       "      <th>marital_status</th>\n",
       "      <th>occupation</th>\n",
       "      <th>relationship</th>\n",
       "      <th>race</th>\n",
       "      <th>sex</th>\n",
       "      <th>capital_gain</th>\n",
       "      <th>capital_loss</th>\n",
       "      <th>hours_per_week</th>\n",
       "      <th>native_country</th>\n",
       "      <th>income</th>\n",
       "    </tr>\n",
       "  </thead>\n",
       "  <tbody>\n",
       "    <tr>\n",
       "      <th>0</th>\n",
       "      <td>46</td>\n",
       "      <td>Self-emp-not-inc</td>\n",
       "      <td>356393</td>\n",
       "      <td>Masters</td>\n",
       "      <td>13</td>\n",
       "      <td>Married-civ-spouse</td>\n",
       "      <td>Prof-specialty</td>\n",
       "      <td>Husband</td>\n",
       "      <td>White</td>\n",
       "      <td>Male</td>\n",
       "      <td>0</td>\n",
       "      <td>0</td>\n",
       "      <td>75</td>\n",
       "      <td>United-States</td>\n",
       "      <td>&lt;=50K</td>\n",
       "    </tr>\n",
       "    <tr>\n",
       "      <th>1</th>\n",
       "      <td>34</td>\n",
       "      <td>Self-emp-not-inc</td>\n",
       "      <td>28828</td>\n",
       "      <td>Bachelors</td>\n",
       "      <td>12</td>\n",
       "      <td>Married-civ-spouse</td>\n",
       "      <td>Exec-managerial</td>\n",
       "      <td>Husband</td>\n",
       "      <td>White</td>\n",
       "      <td>Female</td>\n",
       "      <td>0</td>\n",
       "      <td>0</td>\n",
       "      <td>63</td>\n",
       "      <td>United-States</td>\n",
       "      <td>&gt;50K</td>\n",
       "    </tr>\n",
       "    <tr>\n",
       "      <th>2</th>\n",
       "      <td>21</td>\n",
       "      <td>Private</td>\n",
       "      <td>188496</td>\n",
       "      <td>Assoc-acdm</td>\n",
       "      <td>13</td>\n",
       "      <td>Married-civ-spouse</td>\n",
       "      <td>Prof-specialty</td>\n",
       "      <td>Husband</td>\n",
       "      <td>White</td>\n",
       "      <td>Male</td>\n",
       "      <td>23188</td>\n",
       "      <td>0</td>\n",
       "      <td>67</td>\n",
       "      <td>India</td>\n",
       "      <td>&gt;50K</td>\n",
       "    </tr>\n",
       "  </tbody>\n",
       "</table>\n",
       "</div>"
      ],
      "text/plain": [
       "   age         workclass  fnlwgt   education  education_num  \\\n",
       "0   46  Self-emp-not-inc  356393     Masters             13   \n",
       "1   34  Self-emp-not-inc   28828   Bachelors             12   \n",
       "2   21           Private  188496  Assoc-acdm             13   \n",
       "\n",
       "       marital_status       occupation relationship   race     sex  \\\n",
       "0  Married-civ-spouse   Prof-specialty      Husband  White    Male   \n",
       "1  Married-civ-spouse  Exec-managerial      Husband  White  Female   \n",
       "2  Married-civ-spouse   Prof-specialty      Husband  White    Male   \n",
       "\n",
       "   capital_gain  capital_loss  hours_per_week native_country income  \n",
       "0             0             0              75  United-States  <=50K  \n",
       "1             0             0              63  United-States   >50K  \n",
       "2         23188             0              67          India   >50K  "
      ]
     },
     "metadata": {},
     "output_type": "display_data"
    }
   ],
   "source": [
    "df.head(3)"
   ]
  },
  {
   "cell_type": "code",
   "execution_count": 10,
   "metadata": {},
   "outputs": [
    {
     "name": "stdout",
     "output_type": "stream",
     "text": [
      "['age', 'workclass', 'fnlwgt', 'education', 'education_num', 'marital_status', 'occupation', 'relationship', 'race', 'sex', 'capital_gain', 'capital_loss', 'hours_per_week', 'native_country', 'income']\n"
     ]
    }
   ],
   "source": [
    "print([col for col in df.columns])"
   ]
  },
  {
   "cell_type": "code",
   "execution_count": 11,
   "metadata": {},
   "outputs": [
    {
     "data": {
      "text/plain": [
       ">50K     0.532907\n",
       "<=50K    0.467093\n",
       "Name: income, dtype: float64"
      ]
     },
     "metadata": {},
     "output_type": "display_data"
    }
   ],
   "source": [
    "df.income.value_counts()/df.shape[0]"
   ]
  },
  {
   "cell_type": "code",
   "execution_count": 12,
   "metadata": {},
   "outputs": [
    {
     "data": {
      "text/plain": [
       "sarus.pandas.dataframe.Series"
      ]
     },
     "execution_count": 12,
     "metadata": {},
     "output_type": "execute_result"
    }
   ],
   "source": [
    "type(df.income.value_counts()/df.shape[0])"
   ]
  },
  {
   "cell_type": "markdown",
   "metadata": {},
   "source": [
    "### Preprocessing and modeling data remotely"
   ]
  },
  {
   "cell_type": "code",
   "execution_count": 13,
   "metadata": {},
   "outputs": [],
   "source": [
    "# Handling missing values\n",
    "df = df.fillna(0)\n",
    "\n",
    "# Splitting into X,y\n",
    "target_colname = 'income'\n",
    "X = df.drop([target_colname], axis=1)\n",
    "y = df[target_colname]\n",
    "\n",
    "# Encoding X categorical variables\n",
    "cat = pd.get_dummies(X.select_dtypes([\"object\"]), drop_first=True)\n",
    "X = cat.join(X.select_dtypes([\"float64\", \"float32\", \"int64\", \"bool\"]))\n",
    "\n",
    "# Splitting into train and test datasets\n",
    "result = train_test_split(X, y, test_size=0.2)\n",
    "X_train = result[0]\n",
    "X_test = result[1]\n",
    "y_train = result[2]\n",
    "y_test = result[3]\n",
    "\n",
    "# Encoding y\n",
    "lbl = LabelEncoder()\n",
    "lbl.fit(y)\n",
    "\n",
    "y_train = lbl.transform(y_train)\n",
    "y_test = lbl.transform(y_test)\n",
    "y = lbl.transform(y)"
   ]
  },
  {
   "cell_type": "code",
   "execution_count": 14,
   "metadata": {},
   "outputs": [
    {
     "data": {
      "text/html": [
       "<div>\n",
       "<style scoped>\n",
       "    .dataframe tbody tr th:only-of-type {\n",
       "        vertical-align: middle;\n",
       "    }\n",
       "\n",
       "    .dataframe tbody tr th {\n",
       "        vertical-align: top;\n",
       "    }\n",
       "\n",
       "    .dataframe thead th {\n",
       "        text-align: right;\n",
       "    }\n",
       "</style>\n",
       "<table border=\"1\" class=\"dataframe\">\n",
       "  <thead>\n",
       "    <tr style=\"text-align: right;\">\n",
       "      <th></th>\n",
       "      <th>workclass_Federal-gov</th>\n",
       "      <th>workclass_Local-gov</th>\n",
       "      <th>workclass_Private</th>\n",
       "      <th>workclass_Self-emp-inc</th>\n",
       "      <th>workclass_Self-emp-not-inc</th>\n",
       "      <th>workclass_State-gov</th>\n",
       "      <th>workclass_Without-pay</th>\n",
       "      <th>education_11th</th>\n",
       "      <th>education_12th</th>\n",
       "      <th>education_1st-4th</th>\n",
       "      <th>...</th>\n",
       "      <th>native_country_Thailand</th>\n",
       "      <th>native_country_Trinadad&amp;Tobago</th>\n",
       "      <th>native_country_United-States</th>\n",
       "      <th>native_country_Vietnam</th>\n",
       "      <th>age</th>\n",
       "      <th>fnlwgt</th>\n",
       "      <th>education_num</th>\n",
       "      <th>capital_gain</th>\n",
       "      <th>capital_loss</th>\n",
       "      <th>hours_per_week</th>\n",
       "    </tr>\n",
       "  </thead>\n",
       "  <tbody>\n",
       "    <tr>\n",
       "      <th>286</th>\n",
       "      <td>0</td>\n",
       "      <td>0</td>\n",
       "      <td>0</td>\n",
       "      <td>0</td>\n",
       "      <td>1</td>\n",
       "      <td>0</td>\n",
       "      <td>0</td>\n",
       "      <td>0</td>\n",
       "      <td>0</td>\n",
       "      <td>0</td>\n",
       "      <td>...</td>\n",
       "      <td>0</td>\n",
       "      <td>0</td>\n",
       "      <td>1</td>\n",
       "      <td>0</td>\n",
       "      <td>34</td>\n",
       "      <td>308147</td>\n",
       "      <td>10</td>\n",
       "      <td>5007</td>\n",
       "      <td>0</td>\n",
       "      <td>46</td>\n",
       "    </tr>\n",
       "    <tr>\n",
       "      <th>4117</th>\n",
       "      <td>0</td>\n",
       "      <td>0</td>\n",
       "      <td>1</td>\n",
       "      <td>0</td>\n",
       "      <td>0</td>\n",
       "      <td>0</td>\n",
       "      <td>0</td>\n",
       "      <td>0</td>\n",
       "      <td>0</td>\n",
       "      <td>0</td>\n",
       "      <td>...</td>\n",
       "      <td>0</td>\n",
       "      <td>0</td>\n",
       "      <td>1</td>\n",
       "      <td>0</td>\n",
       "      <td>45</td>\n",
       "      <td>161763</td>\n",
       "      <td>11</td>\n",
       "      <td>67737</td>\n",
       "      <td>0</td>\n",
       "      <td>40</td>\n",
       "    </tr>\n",
       "    <tr>\n",
       "      <th>2265</th>\n",
       "      <td>0</td>\n",
       "      <td>0</td>\n",
       "      <td>0</td>\n",
       "      <td>0</td>\n",
       "      <td>0</td>\n",
       "      <td>0</td>\n",
       "      <td>0</td>\n",
       "      <td>0</td>\n",
       "      <td>0</td>\n",
       "      <td>0</td>\n",
       "      <td>...</td>\n",
       "      <td>0</td>\n",
       "      <td>0</td>\n",
       "      <td>1</td>\n",
       "      <td>0</td>\n",
       "      <td>42</td>\n",
       "      <td>348189</td>\n",
       "      <td>9</td>\n",
       "      <td>12148</td>\n",
       "      <td>0</td>\n",
       "      <td>43</td>\n",
       "    </tr>\n",
       "  </tbody>\n",
       "</table>\n",
       "<p>3 rows × 92 columns</p>\n",
       "</div>"
      ],
      "text/plain": [
       "      workclass_Federal-gov  workclass_Local-gov  workclass_Private  \\\n",
       "286                       0                    0                  0   \n",
       "4117                      0                    0                  1   \n",
       "2265                      0                    0                  0   \n",
       "\n",
       "      workclass_Self-emp-inc  workclass_Self-emp-not-inc  workclass_State-gov  \\\n",
       "286                        0                           1                    0   \n",
       "4117                       0                           0                    0   \n",
       "2265                       0                           0                    0   \n",
       "\n",
       "      workclass_Without-pay  education_11th  education_12th  \\\n",
       "286                       0               0               0   \n",
       "4117                      0               0               0   \n",
       "2265                      0               0               0   \n",
       "\n",
       "      education_1st-4th  ...  native_country_Thailand  \\\n",
       "286                   0  ...                        0   \n",
       "4117                  0  ...                        0   \n",
       "2265                  0  ...                        0   \n",
       "\n",
       "      native_country_Trinadad&Tobago  native_country_United-States  \\\n",
       "286                                0                             1   \n",
       "4117                               0                             1   \n",
       "2265                               0                             1   \n",
       "\n",
       "      native_country_Vietnam  age  fnlwgt  education_num  capital_gain  \\\n",
       "286                        0   34  308147             10          5007   \n",
       "4117                       0   45  161763             11         67737   \n",
       "2265                       0   42  348189              9         12148   \n",
       "\n",
       "      capital_loss  hours_per_week  \n",
       "286              0              46  \n",
       "4117             0              40  \n",
       "2265             0              43  \n",
       "\n",
       "[3 rows x 92 columns]"
      ]
     },
     "metadata": {},
     "output_type": "display_data"
    }
   ],
   "source": [
    "X_train.head(3)"
   ]
  },
  {
   "cell_type": "code",
   "execution_count": 15,
   "metadata": {},
   "outputs": [
    {
     "data": {
      "text/plain": [
       "sarus.pandas.dataframe.DataFrame"
      ]
     },
     "execution_count": 15,
     "metadata": {},
     "output_type": "execute_result"
    }
   ],
   "source": [
    "type(X_train)"
   ]
  },
  {
   "cell_type": "code",
   "execution_count": 16,
   "metadata": {},
   "outputs": [
    {
     "data": {
      "text/plain": [
       "'DP estimate'"
      ]
     },
     "execution_count": 16,
     "metadata": {},
     "output_type": "execute_result"
    }
   ],
   "source": [
    "# Check the evaluation policy of the object: \n",
    "# is it a DP estimate or a whitelisted result (ie executed on the real data)?\n",
    "from sarus import eval_policy\n",
    "eval_policy(y_train)"
   ]
  },
  {
   "cell_type": "code",
   "execution_count": 17,
   "metadata": {},
   "outputs": [],
   "source": [
    "model = RandomForestClassifier()\n",
    "\n",
    "fitted_model = model.fit(X=X_train, y=y_train)\n",
    "y_pred = fitted_model.predict(X_test)"
   ]
  },
  {
   "cell_type": "code",
   "execution_count": 18,
   "metadata": {
    "scrolled": false
   },
   "outputs": [
    {
     "data": {
      "text/plain": [
       "0.895"
      ]
     },
     "metadata": {},
     "output_type": "display_data"
    }
   ],
   "source": [
    "accuracy_score(y_pred, y_test)"
   ]
  },
  {
   "cell_type": "code",
   "execution_count": 19,
   "metadata": {},
   "outputs": [
    {
     "data": {
      "text/plain": [
       "'Result of whitelisted operations'"
      ]
     },
     "execution_count": 19,
     "metadata": {},
     "output_type": "execute_result"
    }
   ],
   "source": [
    "eval_policy(fitted_model)"
   ]
  },
  {
   "cell_type": "code",
   "execution_count": 20,
   "metadata": {},
   "outputs": [
    {
     "data": {
      "text/plain": [
       "'Result of whitelisted operations'"
      ]
     },
     "execution_count": 20,
     "metadata": {},
     "output_type": "execute_result"
    }
   ],
   "source": [
    "eval_policy(accuracy_score(y_pred, y_test))"
   ]
  },
  {
   "cell_type": "markdown",
   "metadata": {},
   "source": [
    "### Under the hood\n",
    "Below is the graph that is compiled by the Sarus SDK to analyze the requested sequence of operations, see if the analyst is autorized to run it on the remote data and compile an authorized alternative if not."
   ]
  },
  {
   "cell_type": "code",
   "execution_count": 21,
   "metadata": {
    "scrolled": false
   },
   "outputs": [
    {
     "data": {
      "text/html": [
       "<h3>Computation graph executed remotely on Sarus server</h3>"
      ],
      "text/plain": [
       "<IPython.core.display.HTML object>"
      ]
     },
     "metadata": {},
     "output_type": "display_data"
    },
    {
     "data": {
      "image/svg+xml": [
       "<?xml version=\"1.0\" encoding=\"UTF-8\" standalone=\"no\"?>\n",
       "<!DOCTYPE svg PUBLIC \"-//W3C//DTD SVG 1.1//EN\"\n",
       " \"http://www.w3.org/Graphics/SVG/1.1/DTD/svg11.dtd\">\n",
       "<!-- Generated by graphviz version 2.43.0 (0)\n",
       " -->\n",
       "<!-- Title: %3 Pages: 1 -->\n",
       "<svg width=\"701pt\" height=\"1043pt\"\n",
       " viewBox=\"0.00 0.00 701.00 1043.00\" xmlns=\"http://www.w3.org/2000/svg\" xmlns:xlink=\"http://www.w3.org/1999/xlink\">\n",
       "<g id=\"graph0\" class=\"graph\" transform=\"scale(1 1) rotate(0) translate(4 1039)\">\n",
       "<title>%3</title>\n",
       "<polygon fill=\"white\" stroke=\"transparent\" points=\"-4,4 -4,-1039 697,-1039 697,4 -4,4\"/>\n",
       "<!-- 28f274fd959c19923e25790c5dc075a8 -->\n",
       "<g id=\"node1\" class=\"node\">\n",
       "<title>28f274fd959c19923e25790c5dc075a8</title>\n",
       "<path fill=\"#9cffc5\" stroke=\"black\" d=\"M369.5,-231C369.5,-231 272.5,-231 272.5,-231 266.5,-231 260.5,-225 260.5,-219 260.5,-219 260.5,-207 260.5,-207 260.5,-201 266.5,-195 272.5,-195 272.5,-195 369.5,-195 369.5,-195 375.5,-195 381.5,-201 381.5,-207 381.5,-207 381.5,-219 381.5,-219 381.5,-225 375.5,-231 369.5,-231\"/>\n",
       "<text text-anchor=\"middle\" x=\"321\" y=\"-209.3\" font-family=\"Times,serif\" font-size=\"14.00\">Scalar: anonymous</text>\n",
       "</g>\n",
       "<!-- 8656a0b32a601ebb2fc37652fe80a084 -->\n",
       "<g id=\"node4\" class=\"node\">\n",
       "<title>8656a0b32a601ebb2fc37652fe80a084</title>\n",
       "<path fill=\"#9cffc5\" stroke=\"black\" d=\"M236,-123C236,-123 164,-123 164,-123 158,-123 152,-117 152,-111 152,-111 152,-99 152,-99 152,-93 158,-87 164,-87 164,-87 236,-87 236,-87 242,-87 248,-93 248,-99 248,-99 248,-111 248,-111 248,-117 242,-123 236,-123\"/>\n",
       "<text text-anchor=\"middle\" x=\"200\" y=\"-101.3\" font-family=\"Times,serif\" font-size=\"14.00\">Scalar: y_train</text>\n",
       "</g>\n",
       "<!-- 28f274fd959c19923e25790c5dc075a8&#45;&gt;8656a0b32a601ebb2fc37652fe80a084 -->\n",
       "<g id=\"edge3\" class=\"edge\">\n",
       "<title>28f274fd959c19923e25790c5dc075a8&#45;&gt;8656a0b32a601ebb2fc37652fe80a084</title>\n",
       "<path fill=\"none\" stroke=\"black\" d=\"M260.35,-198.47C230.64,-191.22 200.29,-182.66 196,-177 186.63,-164.65 187.42,-147.34 190.64,-132.91\"/>\n",
       "<polygon fill=\"black\" stroke=\"black\" points=\"194.09,-133.58 193.32,-123.01 187.33,-131.75 194.09,-133.58\"/>\n",
       "<text text-anchor=\"middle\" x=\"271.5\" y=\"-155.3\" font-family=\"Times,serif\" font-size=\"14.00\">sklearn.SK_TRANSFORM</text>\n",
       "</g>\n",
       "<!-- ab0f2774bc72bc458b876a16b9e77506 -->\n",
       "<g id=\"node2\" class=\"node\">\n",
       "<title>ab0f2774bc72bc458b876a16b9e77506</title>\n",
       "<path fill=\"#9cffc5\" stroke=\"black\" d=\"M60,-405C60,-405 12,-405 12,-405 6,-405 0,-399 0,-393 0,-393 0,-381 0,-381 0,-375 6,-369 12,-369 12,-369 60,-369 60,-369 66,-369 72,-375 72,-381 72,-381 72,-393 72,-393 72,-399 66,-405 60,-405\"/>\n",
       "<text text-anchor=\"middle\" x=\"36\" y=\"-383.3\" font-family=\"Times,serif\" font-size=\"14.00\">Scalar: lbl</text>\n",
       "</g>\n",
       "<!-- fda8d43b4915d05d205dbfa3cfb19f8c -->\n",
       "<g id=\"node3\" class=\"node\">\n",
       "<title>fda8d43b4915d05d205dbfa3cfb19f8c</title>\n",
       "<path fill=\"#9cffc5\" stroke=\"black\" d=\"M115,-318C115,-318 67,-318 67,-318 61,-318 55,-312 55,-306 55,-306 55,-294 55,-294 55,-288 61,-282 67,-282 67,-282 115,-282 115,-282 121,-282 127,-288 127,-294 127,-294 127,-306 127,-306 127,-312 121,-318 115,-318\"/>\n",
       "<text text-anchor=\"middle\" x=\"91\" y=\"-296.3\" font-family=\"Times,serif\" font-size=\"14.00\">Scalar: lbl</text>\n",
       "</g>\n",
       "<!-- ab0f2774bc72bc458b876a16b9e77506&#45;&gt;fda8d43b4915d05d205dbfa3cfb19f8c -->\n",
       "<g id=\"edge10\" class=\"edge\">\n",
       "<title>ab0f2774bc72bc458b876a16b9e77506&#45;&gt;fda8d43b4915d05d205dbfa3cfb19f8c</title>\n",
       "<path fill=\"none\" stroke=\"black\" d=\"M32.5,-368.75C31.34,-358.6 31.51,-345.86 37,-336 39.55,-331.42 42.98,-327.34 46.88,-323.74\"/>\n",
       "<polygon fill=\"black\" stroke=\"black\" points=\"49.22,-326.35 54.85,-317.38 44.85,-320.88 49.22,-326.35\"/>\n",
       "<text text-anchor=\"middle\" x=\"81\" y=\"-339.8\" font-family=\"Times,serif\" font-size=\"14.00\">sklearn.SK_FIT</text>\n",
       "</g>\n",
       "<!-- fda8d43b4915d05d205dbfa3cfb19f8c&#45;&gt;8656a0b32a601ebb2fc37652fe80a084 -->\n",
       "<g id=\"edge1\" class=\"edge\">\n",
       "<title>fda8d43b4915d05d205dbfa3cfb19f8c&#45;&gt;8656a0b32a601ebb2fc37652fe80a084</title>\n",
       "<path fill=\"none\" stroke=\"black\" d=\"M88.76,-281.76C86.77,-260.23 86.02,-222.86 100,-195 113.86,-167.37 140.31,-144.42 162.53,-128.76\"/>\n",
       "<polygon fill=\"black\" stroke=\"black\" points=\"164.51,-131.64 170.8,-123.11 160.57,-125.86 164.51,-131.64\"/>\n",
       "<text text-anchor=\"middle\" x=\"175.5\" y=\"-209.3\" font-family=\"Times,serif\" font-size=\"14.00\">sklearn.SK_TRANSFORM</text>\n",
       "</g>\n",
       "<!-- d851776d73e026039d9f577a74519def -->\n",
       "<g id=\"node18\" class=\"node\">\n",
       "<title>d851776d73e026039d9f577a74519def</title>\n",
       "<path fill=\"#9cffc5\" stroke=\"black\" d=\"M445,-36C445,-36 341,-36 341,-36 335,-36 329,-30 329,-24 329,-24 329,-12 329,-12 329,-6 335,0 341,0 341,0 445,0 445,0 451,0 457,-6 457,-12 457,-12 457,-24 457,-24 457,-30 451,-36 445,-36\"/>\n",
       "<text text-anchor=\"middle\" x=\"393\" y=\"-14.3\" font-family=\"Times,serif\" font-size=\"14.00\">Scalar: fitted_model</text>\n",
       "</g>\n",
       "<!-- 8656a0b32a601ebb2fc37652fe80a084&#45;&gt;d851776d73e026039d9f577a74519def -->\n",
       "<g id=\"edge14\" class=\"edge\">\n",
       "<title>8656a0b32a601ebb2fc37652fe80a084&#45;&gt;d851776d73e026039d9f577a74519def</title>\n",
       "<path fill=\"none\" stroke=\"black\" d=\"M228.05,-86.95C245.73,-76.62 269.24,-63.63 291,-54 302.87,-48.75 315.79,-43.78 328.32,-39.31\"/>\n",
       "<polygon fill=\"black\" stroke=\"black\" points=\"329.52,-42.6 337.81,-36.01 327.21,-35.99 329.52,-42.6\"/>\n",
       "<text text-anchor=\"middle\" x=\"335\" y=\"-57.8\" font-family=\"Times,serif\" font-size=\"14.00\">sklearn.SK_FIT</text>\n",
       "</g>\n",
       "<!-- 898aa17cabff117d7b2e29d2b847f12b -->\n",
       "<g id=\"node5\" class=\"node\">\n",
       "<title>898aa17cabff117d7b2e29d2b847f12b</title>\n",
       "<path fill=\"#9cffc5\" stroke=\"black\" d=\"M275.5,-405C275.5,-405 178.5,-405 178.5,-405 172.5,-405 166.5,-399 166.5,-393 166.5,-393 166.5,-381 166.5,-381 166.5,-375 172.5,-369 178.5,-369 178.5,-369 275.5,-369 275.5,-369 281.5,-369 287.5,-375 287.5,-381 287.5,-381 287.5,-393 287.5,-393 287.5,-399 281.5,-405 275.5,-405\"/>\n",
       "<text text-anchor=\"middle\" x=\"227\" y=\"-383.3\" font-family=\"Times,serif\" font-size=\"14.00\">Scalar: anonymous</text>\n",
       "</g>\n",
       "<!-- 898aa17cabff117d7b2e29d2b847f12b&#45;&gt;fda8d43b4915d05d205dbfa3cfb19f8c -->\n",
       "<g id=\"edge6\" class=\"edge\">\n",
       "<title>898aa17cabff117d7b2e29d2b847f12b&#45;&gt;fda8d43b4915d05d205dbfa3cfb19f8c</title>\n",
       "<path fill=\"none\" stroke=\"black\" d=\"M181.9,-368.84C170.48,-363.74 158.49,-357.7 148,-351 136.45,-343.62 124.86,-333.97 115.18,-325.11\"/>\n",
       "<polygon fill=\"black\" stroke=\"black\" points=\"117.54,-322.54 107.86,-318.24 112.75,-327.64 117.54,-322.54\"/>\n",
       "<text text-anchor=\"middle\" x=\"192\" y=\"-339.8\" font-family=\"Times,serif\" font-size=\"14.00\">sklearn.SK_FIT</text>\n",
       "</g>\n",
       "<!-- 33498e3f30f91fa34b3fd0dd8453c2e0 -->\n",
       "<g id=\"node15\" class=\"node\">\n",
       "<title>33498e3f30f91fa34b3fd0dd8453c2e0</title>\n",
       "<path fill=\"#9cffc5\" stroke=\"black\" d=\"M404,-318C404,-318 340,-318 340,-318 334,-318 328,-312 328,-306 328,-306 328,-294 328,-294 328,-288 334,-282 340,-282 340,-282 404,-282 404,-282 410,-282 416,-288 416,-294 416,-294 416,-306 416,-306 416,-312 410,-318 404,-318\"/>\n",
       "<text text-anchor=\"middle\" x=\"372\" y=\"-296.3\" font-family=\"Times,serif\" font-size=\"14.00\">Scalar: result</text>\n",
       "</g>\n",
       "<!-- 898aa17cabff117d7b2e29d2b847f12b&#45;&gt;33498e3f30f91fa34b3fd0dd8453c2e0 -->\n",
       "<g id=\"edge11\" class=\"edge\">\n",
       "<title>898aa17cabff117d7b2e29d2b847f12b&#45;&gt;33498e3f30f91fa34b3fd0dd8453c2e0</title>\n",
       "<path fill=\"none\" stroke=\"black\" d=\"M232.73,-368.92C237.2,-358.04 244.44,-344.46 255,-336 272.93,-321.64 296.63,-313.16 318.02,-308.16\"/>\n",
       "<polygon fill=\"black\" stroke=\"black\" points=\"318.92,-311.55 327.97,-306.04 317.46,-304.7 318.92,-311.55\"/>\n",
       "<text text-anchor=\"middle\" x=\"350\" y=\"-339.8\" font-family=\"Times,serif\" font-size=\"14.00\">sklearn.SK_TRAIN_TEST_SPLIT</text>\n",
       "</g>\n",
       "<!-- d135565b97b32eec5aef22dc6f0f4a01 -->\n",
       "<g id=\"node6\" class=\"node\">\n",
       "<title>d135565b97b32eec5aef22dc6f0f4a01</title>\n",
       "<path fill=\"#9cffc5\" stroke=\"black\" d=\"M405,-546C405,-546 271,-546 271,-546 265,-546 259,-540 259,-534 259,-534 259,-522 259,-522 259,-516 265,-510 271,-510 271,-510 405,-510 405,-510 411,-510 417,-516 417,-522 417,-522 417,-534 417,-534 417,-540 411,-546 405,-546\"/>\n",
       "<text text-anchor=\"middle\" x=\"338\" y=\"-524.3\" font-family=\"Times,serif\" font-size=\"14.00\">Transformed: anonymous</text>\n",
       "</g>\n",
       "<!-- 9685ad82d29dc52a901ef3f83c66b3ff -->\n",
       "<g id=\"node14\" class=\"node\">\n",
       "<title>9685ad82d29dc52a901ef3f83c66b3ff</title>\n",
       "<path fill=\"#9cffc5\" stroke=\"black\" d=\"M511,-405C511,-405 431,-405 431,-405 425,-405 419,-399 419,-393 419,-393 419,-381 419,-381 419,-375 425,-369 431,-369 431,-369 511,-369 511,-369 517,-369 523,-375 523,-381 523,-381 523,-393 523,-393 523,-399 517,-405 511,-405\"/>\n",
       "<text text-anchor=\"middle\" x=\"471\" y=\"-383.3\" font-family=\"Times,serif\" font-size=\"14.00\">Transformed: X</text>\n",
       "</g>\n",
       "<!-- d135565b97b32eec5aef22dc6f0f4a01&#45;&gt;9685ad82d29dc52a901ef3f83c66b3ff -->\n",
       "<g id=\"edge4\" class=\"edge\">\n",
       "<title>d135565b97b32eec5aef22dc6f0f4a01&#45;&gt;9685ad82d29dc52a901ef3f83c66b3ff</title>\n",
       "<path fill=\"none\" stroke=\"black\" d=\"M338.68,-509.93C340.08,-494.48 344.19,-471.78 356,-456 371.14,-435.77 394.22,-420.45 415.74,-409.51\"/>\n",
       "<polygon fill=\"black\" stroke=\"black\" points=\"417.37,-412.61 424.84,-405.09 414.32,-406.31 417.37,-412.61\"/>\n",
       "<text text-anchor=\"middle\" x=\"403.5\" y=\"-470.3\" font-family=\"Times,serif\" font-size=\"14.00\">pandas.PD_JOIN</text>\n",
       "</g>\n",
       "<!-- 8f913f6288da46918cf4214346589311 -->\n",
       "<g id=\"node7\" class=\"node\">\n",
       "<title>8f913f6288da46918cf4214346589311</title>\n",
       "<path fill=\"#9cffc5\" stroke=\"black\" d=\"M303,-1035C303,-1035 183,-1035 183,-1035 177,-1035 171,-1029 171,-1023 171,-1023 171,-1011 171,-1011 171,-1005 177,-999 183,-999 183,-999 303,-999 303,-999 309,-999 315,-1005 315,-1011 315,-1011 315,-1023 315,-1023 315,-1029 309,-1035 303,-1035\"/>\n",
       "<text text-anchor=\"middle\" x=\"243\" y=\"-1013.3\" font-family=\"Times,serif\" font-size=\"14.00\">Source: remote_dataset</text>\n",
       "</g>\n",
       "<!-- b3f123da60f82e6e8e093dd34ac6259d -->\n",
       "<g id=\"node8\" class=\"node\">\n",
       "<title>b3f123da60f82e6e8e093dd34ac6259d</title>\n",
       "<path fill=\"#9cffc5\" stroke=\"black\" d=\"M310,-948C310,-948 176,-948 176,-948 170,-948 164,-942 164,-936 164,-936 164,-924 164,-924 164,-918 170,-912 176,-912 176,-912 310,-912 310,-912 316,-912 322,-918 322,-924 322,-924 322,-936 322,-936 322,-942 316,-948 310,-948\"/>\n",
       "<text text-anchor=\"middle\" x=\"243\" y=\"-926.3\" font-family=\"Times,serif\" font-size=\"14.00\">Transformed: anonymous</text>\n",
       "</g>\n",
       "<!-- 8f913f6288da46918cf4214346589311&#45;&gt;b3f123da60f82e6e8e093dd34ac6259d -->\n",
       "<g id=\"edge18\" class=\"edge\">\n",
       "<title>8f913f6288da46918cf4214346589311&#45;&gt;b3f123da60f82e6e8e093dd34ac6259d</title>\n",
       "<path fill=\"none\" stroke=\"black\" d=\"M243,-998.8C243,-987.16 243,-971.55 243,-958.24\"/>\n",
       "<polygon fill=\"black\" stroke=\"black\" points=\"246.5,-958.18 243,-948.18 239.5,-958.18 246.5,-958.18\"/>\n",
       "<text text-anchor=\"middle\" x=\"258\" y=\"-969.8\" font-family=\"Times,serif\" font-size=\"14.00\">Filter</text>\n",
       "</g>\n",
       "<!-- 3f8b091cc794f93616a8abb42020c085 -->\n",
       "<g id=\"node9\" class=\"node\">\n",
       "<title>3f8b091cc794f93616a8abb42020c085</title>\n",
       "<path fill=\"#9cffc5\" stroke=\"black\" d=\"M310,-861C310,-861 176,-861 176,-861 170,-861 164,-855 164,-849 164,-849 164,-837 164,-837 164,-831 170,-825 176,-825 176,-825 310,-825 310,-825 316,-825 322,-831 322,-837 322,-837 322,-849 322,-849 322,-855 316,-861 310,-861\"/>\n",
       "<text text-anchor=\"middle\" x=\"243\" y=\"-839.3\" font-family=\"Times,serif\" font-size=\"14.00\">Transformed: anonymous</text>\n",
       "</g>\n",
       "<!-- b3f123da60f82e6e8e093dd34ac6259d&#45;&gt;3f8b091cc794f93616a8abb42020c085 -->\n",
       "<g id=\"edge13\" class=\"edge\">\n",
       "<title>b3f123da60f82e6e8e093dd34ac6259d&#45;&gt;3f8b091cc794f93616a8abb42020c085</title>\n",
       "<path fill=\"none\" stroke=\"black\" d=\"M243,-911.8C243,-900.16 243,-884.55 243,-871.24\"/>\n",
       "<polygon fill=\"black\" stroke=\"black\" points=\"246.5,-871.18 243,-861.18 239.5,-871.18 246.5,-871.18\"/>\n",
       "<text text-anchor=\"middle\" x=\"267.5\" y=\"-882.8\" font-family=\"Times,serif\" font-size=\"14.00\">get_item</text>\n",
       "</g>\n",
       "<!-- 84ff752d76b799b105c29f39c1927a57 -->\n",
       "<g id=\"node10\" class=\"node\">\n",
       "<title>84ff752d76b799b105c29f39c1927a57</title>\n",
       "<path fill=\"#9cffc5\" stroke=\"black\" d=\"M284,-774C284,-774 202,-774 202,-774 196,-774 190,-768 190,-762 190,-762 190,-750 190,-750 190,-744 196,-738 202,-738 202,-738 284,-738 284,-738 290,-738 296,-744 296,-750 296,-750 296,-762 296,-762 296,-768 290,-774 284,-774\"/>\n",
       "<text text-anchor=\"middle\" x=\"243\" y=\"-752.3\" font-family=\"Times,serif\" font-size=\"14.00\">Transformed: df</text>\n",
       "</g>\n",
       "<!-- 3f8b091cc794f93616a8abb42020c085&#45;&gt;84ff752d76b799b105c29f39c1927a57 -->\n",
       "<g id=\"edge8\" class=\"edge\">\n",
       "<title>3f8b091cc794f93616a8abb42020c085&#45;&gt;84ff752d76b799b105c29f39c1927a57</title>\n",
       "<path fill=\"none\" stroke=\"black\" d=\"M243,-824.8C243,-813.16 243,-797.55 243,-784.24\"/>\n",
       "<polygon fill=\"black\" stroke=\"black\" points=\"246.5,-784.18 243,-774.18 239.5,-784.18 246.5,-784.18\"/>\n",
       "<text text-anchor=\"middle\" x=\"300\" y=\"-795.8\" font-family=\"Times,serif\" font-size=\"14.00\">pandas.PD_FILLNA</text>\n",
       "</g>\n",
       "<!-- 84ff752d76b799b105c29f39c1927a57&#45;&gt;898aa17cabff117d7b2e29d2b847f12b -->\n",
       "<g id=\"edge19\" class=\"edge\">\n",
       "<title>84ff752d76b799b105c29f39c1927a57&#45;&gt;898aa17cabff117d7b2e29d2b847f12b</title>\n",
       "<path fill=\"none\" stroke=\"black\" d=\"M237.85,-737.92C233.17,-720.88 227,-693.88 227,-670 227,-670 227,-670 227,-473 227,-453.75 227,-432.05 227,-415.4\"/>\n",
       "<polygon fill=\"black\" stroke=\"black\" points=\"230.5,-415.26 227,-405.26 223.5,-415.26 230.5,-415.26\"/>\n",
       "<text text-anchor=\"middle\" x=\"267\" y=\"-578.3\" font-family=\"Times,serif\" font-size=\"14.00\">std.GETITEM</text>\n",
       "</g>\n",
       "<!-- 4b58ae244ca00180b7e13604cd6b422e -->\n",
       "<g id=\"node11\" class=\"node\">\n",
       "<title>4b58ae244ca00180b7e13604cd6b422e</title>\n",
       "<path fill=\"#9cffc5\" stroke=\"black\" d=\"M402,-687C402,-687 268,-687 268,-687 262,-687 256,-681 256,-675 256,-675 256,-663 256,-663 256,-657 262,-651 268,-651 268,-651 402,-651 402,-651 408,-651 414,-657 414,-663 414,-663 414,-675 414,-675 414,-681 408,-687 402,-687\"/>\n",
       "<text text-anchor=\"middle\" x=\"335\" y=\"-665.3\" font-family=\"Times,serif\" font-size=\"14.00\">Transformed: anonymous</text>\n",
       "</g>\n",
       "<!-- 84ff752d76b799b105c29f39c1927a57&#45;&gt;4b58ae244ca00180b7e13604cd6b422e -->\n",
       "<g id=\"edge9\" class=\"edge\">\n",
       "<title>84ff752d76b799b105c29f39c1927a57&#45;&gt;4b58ae244ca00180b7e13604cd6b422e</title>\n",
       "<path fill=\"none\" stroke=\"black\" d=\"M261.62,-737.8C275.21,-725.24 293.82,-708.05 308.89,-694.12\"/>\n",
       "<polygon fill=\"black\" stroke=\"black\" points=\"311.44,-696.53 316.41,-687.18 306.69,-691.39 311.44,-696.53\"/>\n",
       "<text text-anchor=\"middle\" x=\"346\" y=\"-708.8\" font-family=\"Times,serif\" font-size=\"14.00\">pandas.PD_DROP</text>\n",
       "</g>\n",
       "<!-- 4b58ae244ca00180b7e13604cd6b422e&#45;&gt;d135565b97b32eec5aef22dc6f0f4a01 -->\n",
       "<g id=\"edge5\" class=\"edge\">\n",
       "<title>4b58ae244ca00180b7e13604cd6b422e&#45;&gt;d135565b97b32eec5aef22dc6f0f4a01</title>\n",
       "<path fill=\"none\" stroke=\"black\" d=\"M333.24,-650.93C332.73,-645.23 332.25,-638.85 332,-633 330.89,-607 332.92,-577.36 334.92,-556.4\"/>\n",
       "<polygon fill=\"black\" stroke=\"black\" points=\"338.42,-556.59 335.94,-546.29 331.45,-555.89 338.42,-556.59\"/>\n",
       "<text text-anchor=\"middle\" x=\"418.5\" y=\"-621.8\" font-family=\"Times,serif\" font-size=\"14.00\">pandas.PD_SELECT_DTYPES</text>\n",
       "</g>\n",
       "<!-- 973eb28d0ddfa83196f61ccb411c4218 -->\n",
       "<g id=\"node12\" class=\"node\">\n",
       "<title>973eb28d0ddfa83196f61ccb411c4218</title>\n",
       "<path fill=\"#9cffc5\" stroke=\"black\" d=\"M597,-600C597,-600 463,-600 463,-600 457,-600 451,-594 451,-588 451,-588 451,-576 451,-576 451,-570 457,-564 463,-564 463,-564 597,-564 597,-564 603,-564 609,-570 609,-576 609,-576 609,-588 609,-588 609,-594 603,-600 597,-600\"/>\n",
       "<text text-anchor=\"middle\" x=\"530\" y=\"-578.3\" font-family=\"Times,serif\" font-size=\"14.00\">Transformed: anonymous</text>\n",
       "</g>\n",
       "<!-- 4b58ae244ca00180b7e13604cd6b422e&#45;&gt;973eb28d0ddfa83196f61ccb411c4218 -->\n",
       "<g id=\"edge15\" class=\"edge\">\n",
       "<title>4b58ae244ca00180b7e13604cd6b422e&#45;&gt;973eb28d0ddfa83196f61ccb411c4218</title>\n",
       "<path fill=\"none\" stroke=\"black\" d=\"M414.28,-659.33C452.93,-653.69 494.22,-645.1 509,-633 516.12,-627.17 520.87,-618.5 524.01,-610.02\"/>\n",
       "<polygon fill=\"black\" stroke=\"black\" points=\"527.4,-610.9 527.02,-600.31 520.71,-608.83 527.4,-610.9\"/>\n",
       "<text text-anchor=\"middle\" x=\"606.5\" y=\"-621.8\" font-family=\"Times,serif\" font-size=\"14.00\">pandas.PD_SELECT_DTYPES</text>\n",
       "</g>\n",
       "<!-- a1d64b1ea696b96796e4a16f48c50b32 -->\n",
       "<g id=\"node13\" class=\"node\">\n",
       "<title>a1d64b1ea696b96796e4a16f48c50b32</title>\n",
       "<path fill=\"#9cffc5\" stroke=\"black\" d=\"M558,-492C558,-492 472,-492 472,-492 466,-492 460,-486 460,-480 460,-480 460,-468 460,-468 460,-462 466,-456 472,-456 472,-456 558,-456 558,-456 564,-456 570,-462 570,-468 570,-468 570,-480 570,-480 570,-486 564,-492 558,-492\"/>\n",
       "<text text-anchor=\"middle\" x=\"515\" y=\"-470.3\" font-family=\"Times,serif\" font-size=\"14.00\">Transformed: cat</text>\n",
       "</g>\n",
       "<!-- 973eb28d0ddfa83196f61ccb411c4218&#45;&gt;a1d64b1ea696b96796e4a16f48c50b32 -->\n",
       "<g id=\"edge7\" class=\"edge\">\n",
       "<title>973eb28d0ddfa83196f61ccb411c4218&#45;&gt;a1d64b1ea696b96796e4a16f48c50b32</title>\n",
       "<path fill=\"none\" stroke=\"black\" d=\"M527.59,-563.97C525.24,-547.38 521.63,-521.88 518.88,-502.43\"/>\n",
       "<polygon fill=\"black\" stroke=\"black\" points=\"522.32,-501.75 517.45,-492.34 515.39,-502.73 522.32,-501.75\"/>\n",
       "<text text-anchor=\"middle\" x=\"606\" y=\"-524.3\" font-family=\"Times,serif\" font-size=\"14.00\">pandas.PD_GET_DUMMIES</text>\n",
       "</g>\n",
       "<!-- a1d64b1ea696b96796e4a16f48c50b32&#45;&gt;9685ad82d29dc52a901ef3f83c66b3ff -->\n",
       "<g id=\"edge20\" class=\"edge\">\n",
       "<title>a1d64b1ea696b96796e4a16f48c50b32&#45;&gt;9685ad82d29dc52a901ef3f83c66b3ff</title>\n",
       "<path fill=\"none\" stroke=\"black\" d=\"M506.1,-455.8C499.89,-443.82 491.51,-427.62 484.49,-414.06\"/>\n",
       "<polygon fill=\"black\" stroke=\"black\" points=\"487.6,-412.45 479.89,-405.18 481.38,-415.67 487.6,-412.45\"/>\n",
       "<text text-anchor=\"middle\" x=\"542.5\" y=\"-426.8\" font-family=\"Times,serif\" font-size=\"14.00\">pandas.PD_JOIN</text>\n",
       "</g>\n",
       "<!-- 9685ad82d29dc52a901ef3f83c66b3ff&#45;&gt;33498e3f30f91fa34b3fd0dd8453c2e0 -->\n",
       "<g id=\"edge2\" class=\"edge\">\n",
       "<title>9685ad82d29dc52a901ef3f83c66b3ff&#45;&gt;33498e3f30f91fa34b3fd0dd8453c2e0</title>\n",
       "<path fill=\"none\" stroke=\"black\" d=\"M466.86,-368.92C463.54,-358.32 457.93,-345.04 449,-336 442.26,-329.18 433.95,-323.56 425.3,-318.97\"/>\n",
       "<polygon fill=\"black\" stroke=\"black\" points=\"426.75,-315.78 416.23,-314.56 423.69,-322.08 426.75,-315.78\"/>\n",
       "<text text-anchor=\"middle\" x=\"554\" y=\"-339.8\" font-family=\"Times,serif\" font-size=\"14.00\">sklearn.SK_TRAIN_TEST_SPLIT</text>\n",
       "</g>\n",
       "<!-- 33498e3f30f91fa34b3fd0dd8453c2e0&#45;&gt;28f274fd959c19923e25790c5dc075a8 -->\n",
       "<g id=\"edge12\" class=\"edge\">\n",
       "<title>33498e3f30f91fa34b3fd0dd8453c2e0&#45;&gt;28f274fd959c19923e25790c5dc075a8</title>\n",
       "<path fill=\"none\" stroke=\"black\" d=\"M338.23,-281.96C331.74,-277.08 325.79,-271.11 322,-264 318.35,-257.15 317.12,-248.99 317.08,-241.27\"/>\n",
       "<polygon fill=\"black\" stroke=\"black\" points=\"320.58,-241.35 317.63,-231.18 313.59,-240.97 320.58,-241.35\"/>\n",
       "<text text-anchor=\"middle\" x=\"362\" y=\"-252.8\" font-family=\"Times,serif\" font-size=\"14.00\">std.GETITEM</text>\n",
       "</g>\n",
       "<!-- 4636b973c6a3cdc47bb0fdf8a78aff28 -->\n",
       "<g id=\"node16\" class=\"node\">\n",
       "<title>4636b973c6a3cdc47bb0fdf8a78aff28</title>\n",
       "<path fill=\"#9cffc5\" stroke=\"black\" d=\"M480,-177C480,-177 368,-177 368,-177 362,-177 356,-171 356,-165 356,-165 356,-153 356,-153 356,-147 362,-141 368,-141 368,-141 480,-141 480,-141 486,-141 492,-147 492,-153 492,-153 492,-165 492,-165 492,-171 486,-177 480,-177\"/>\n",
       "<text text-anchor=\"middle\" x=\"424\" y=\"-155.3\" font-family=\"Times,serif\" font-size=\"14.00\">Transformed: X_train</text>\n",
       "</g>\n",
       "<!-- 33498e3f30f91fa34b3fd0dd8453c2e0&#45;&gt;4636b973c6a3cdc47bb0fdf8a78aff28 -->\n",
       "<g id=\"edge21\" class=\"edge\">\n",
       "<title>33498e3f30f91fa34b3fd0dd8453c2e0&#45;&gt;4636b973c6a3cdc47bb0fdf8a78aff28</title>\n",
       "<path fill=\"none\" stroke=\"black\" d=\"M389.77,-281.72C394.36,-276.42 398.88,-270.32 402,-264 414.02,-239.65 419.49,-208.93 421.97,-187.21\"/>\n",
       "<polygon fill=\"black\" stroke=\"black\" points=\"425.47,-187.35 422.99,-177.05 418.51,-186.65 425.47,-187.35\"/>\n",
       "<text text-anchor=\"middle\" x=\"448\" y=\"-252.8\" font-family=\"Times,serif\" font-size=\"14.00\">std.GETITEM</text>\n",
       "</g>\n",
       "<!-- 4636b973c6a3cdc47bb0fdf8a78aff28&#45;&gt;d851776d73e026039d9f577a74519def -->\n",
       "<g id=\"edge16\" class=\"edge\">\n",
       "<title>4636b973c6a3cdc47bb0fdf8a78aff28&#45;&gt;d851776d73e026039d9f577a74519def</title>\n",
       "<path fill=\"none\" stroke=\"black\" d=\"M410.84,-140.66C407.38,-135.27 404.05,-129.12 402,-123 393.57,-97.87 391.83,-67.5 391.9,-46.08\"/>\n",
       "<polygon fill=\"black\" stroke=\"black\" points=\"395.39,-46.12 392.06,-36.07 388.4,-46.01 395.39,-46.12\"/>\n",
       "<text text-anchor=\"middle\" x=\"446\" y=\"-101.3\" font-family=\"Times,serif\" font-size=\"14.00\">sklearn.SK_FIT</text>\n",
       "</g>\n",
       "<!-- 512cd85cc6ad553f2808c21dec4975ad -->\n",
       "<g id=\"node17\" class=\"node\">\n",
       "<title>512cd85cc6ad553f2808c21dec4975ad</title>\n",
       "<path fill=\"#9cffc5\" stroke=\"black\" d=\"M579,-123C579,-123 511,-123 511,-123 505,-123 499,-117 499,-111 499,-111 499,-99 499,-99 499,-93 505,-87 511,-87 511,-87 579,-87 579,-87 585,-87 591,-93 591,-99 591,-99 591,-111 591,-111 591,-117 585,-123 579,-123\"/>\n",
       "<text text-anchor=\"middle\" x=\"545\" y=\"-101.3\" font-family=\"Times,serif\" font-size=\"14.00\">Scalar: model</text>\n",
       "</g>\n",
       "<!-- 512cd85cc6ad553f2808c21dec4975ad&#45;&gt;d851776d73e026039d9f577a74519def -->\n",
       "<g id=\"edge17\" class=\"edge\">\n",
       "<title>512cd85cc6ad553f2808c21dec4975ad&#45;&gt;d851776d73e026039d9f577a74519def</title>\n",
       "<path fill=\"none\" stroke=\"black\" d=\"M514.24,-86.8C490.68,-73.62 457.99,-55.34 432.49,-41.08\"/>\n",
       "<polygon fill=\"black\" stroke=\"black\" points=\"433.89,-37.86 423.45,-36.03 430.47,-43.97 433.89,-37.86\"/>\n",
       "<text text-anchor=\"middle\" x=\"522\" y=\"-57.8\" font-family=\"Times,serif\" font-size=\"14.00\">sklearn.SK_FIT</text>\n",
       "</g>\n",
       "</g>\n",
       "</svg>\n"
      ],
      "text/plain": [
       "<graphviz.sources.Source at 0x7f8925070970>"
      ]
     },
     "metadata": {},
     "output_type": "display_data"
    }
   ],
   "source": [
    "from graphviz import Source\n",
    "from IPython.display import display, HTML\n",
    "from sarus.typing import DataSpecVariant\n",
    "\n",
    "def display_computation(value: str):\n",
    "    display(HTML(\"<h3>Computation graph executed remotely on Sarus server</h3>\"))\n",
    "    display(Source(eval(value).dot(kind=DataSpecVariant.ALTERNATIVE, remote=True)))\n",
    "\n",
    "display_computation('fitted_model')"
   ]
  },
  {
   "cell_type": "markdown",
   "metadata": {},
   "source": [
    "### Running SQL queries"
   ]
  },
  {
   "cell_type": "code",
   "execution_count": 22,
   "metadata": {},
   "outputs": [
    {
     "data": {
      "text/html": [
       "<div>\n",
       "<style scoped>\n",
       "    .dataframe tbody tr th:only-of-type {\n",
       "        vertical-align: middle;\n",
       "    }\n",
       "\n",
       "    .dataframe tbody tr th {\n",
       "        vertical-align: top;\n",
       "    }\n",
       "\n",
       "    .dataframe thead th {\n",
       "        text-align: right;\n",
       "    }\n",
       "</style>\n",
       "<table border=\"1\" class=\"dataframe\">\n",
       "  <thead>\n",
       "    <tr style=\"text-align: right;\">\n",
       "      <th></th>\n",
       "      <th>education</th>\n",
       "      <th>avg_age</th>\n",
       "    </tr>\n",
       "  </thead>\n",
       "  <tbody>\n",
       "    <tr>\n",
       "      <th>0</th>\n",
       "      <td>1st-4th</td>\n",
       "      <td>55.682595</td>\n",
       "    </tr>\n",
       "    <tr>\n",
       "      <th>1</th>\n",
       "      <td>7th-8th</td>\n",
       "      <td>50.682639</td>\n",
       "    </tr>\n",
       "    <tr>\n",
       "      <th>2</th>\n",
       "      <td>Doctorate</td>\n",
       "      <td>50.287146</td>\n",
       "    </tr>\n",
       "  </tbody>\n",
       "</table>\n",
       "</div>"
      ],
      "text/plain": [
       "   education    avg_age\n",
       "0    1st-4th  55.682595\n",
       "1    7th-8th  50.682639\n",
       "2  Doctorate  50.287146"
      ]
     },
     "metadata": {},
     "output_type": "display_data"
    }
   ],
   "source": [
    "r = client.query(\"\"\"SELECT education, AVG(age) AS avg_age FROM census\n",
    "                 GROUP BY education ORDER BY avg_age DESC LIMIT 3\"\"\")\n",
    "pd.DataFrame(r['result'], columns=r['columns'])"
   ]
  }
 ],
 "metadata": {
  "kernelspec": {
   "display_name": "Python 3",
   "language": "python",
   "name": "python3"
  },
  "language_info": {
   "codemirror_mode": {
    "name": "ipython",
    "version": 3
   },
   "file_extension": ".py",
   "mimetype": "text/x-python",
   "name": "python",
   "nbconvert_exporter": "python",
   "pygments_lexer": "ipython3",
   "version": "3.8.8"
  },
  "vscode": {
   "interpreter": {
    "hash": "e866ee765787884cc6c41d5495daa6a0e9a1c147088a17c470c5e36a61d536fc"
   }
  }
 },
 "nbformat": 4,
 "nbformat_minor": 2
}
