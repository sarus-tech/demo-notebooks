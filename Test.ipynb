{
  "cells": [
    {
      "cell_type": "markdown",
      "metadata": {
        "id": "jRWPl3-uSTaf"
      },
      "source": [
        "# Sarus Demo - Fine-tune LLM with privacy guarantee [BETA]"
      ]
    },
    {
      "cell_type": "markdown",
      "source": [
        "In this notebook, we demonstrate the new **Sarus LLM fine-tuning feature** now available in BETA.\n",
        "\n",
        "Read more in [our introduction blog post](https://) and see it in action in the [demo video](https://www.youtube.com/watch?v=BQ9gX_bhZMM)!\n",
        "\n",
        "Want to test this new feature? [Join our BETA program](https://www.sarus.tech/join-sarus-llm-private-beta)!\n",
        "\n",
        "\n"
      ],
      "metadata": {
        "id": "f2rKbFliSdVG"
      }
    },
    {
      "cell_type": "markdown",
      "source": [
        "### Use case example\n",
        "\n",
        "Let's assume we want to **fine-tune a LLM on private patient data** so that the model gains medical expertise and can generate relevant fake medical diagnoses that will be useful for many applications (ex: annotate data safely to feed an automatic annotation model).  \n",
        "\n",
        "The patient dataset is highly sensitive and one should ensure no personal information is embedded in the fine-tuned LLM.\n",
        "To meet this privacy requirement, you can use Sarus LLM fine-tuning SDK (beta).\n",
        "\n",
        "In this example, we use the [PHEE dataset](https://paperswithcode.com/dataset/phee), a public patient dataset. But let's imagine this data is private and sensitive.\n",
        "\n",
        "In this dataset, we've just introduced a secret for the purpose of our demonstration: `François Dupont suffers from a severe form of pancreatic cancer`.\n"
      ],
      "metadata": {
        "id": "wjKHvMdHWmyO"
      }
    },
    {
      "cell_type": "markdown",
      "source": [
        "## 0. Install Sarus, select and preview patient dataset"
      ],
      "metadata": {
        "id": "rGiifLPLbOuL"
      }
    },
    {
      "cell_type": "code",
      "source": [
        "!pip install sarus-llm-beta # Join our beta program to get access!"
      ],
      "metadata": {
        "id": "vVHVj1GvTUtx"
      },
      "execution_count": null,
      "outputs": []
    },
    {
      "cell_type": "code",
      "execution_count": null,
      "metadata": {
        "id": "2upZFLc0STag",
        "outputId": "54200b9f-2042-435f-88c1-2ae34c80bfe5"
      },
      "outputs": [
        {
          "name": "stderr",
          "output_type": "stream",
          "text": [
            "2023-09-01 07:47:24.777135: W tensorflow/stream_executor/platform/default/dso_loader.cc:64] Could not load dynamic library 'libcudart.so.11.0'; dlerror: libcudart.so.11.0: cannot open shared object file: No such file or directory\n",
            "2023-09-01 07:47:24.777165: I tensorflow/stream_executor/cuda/cudart_stub.cc:29] Ignore above cudart dlerror if you do not have a GPU set up on your machine.\n"
          ]
        }
      ],
      "source": [
        "import sarus\n",
        "from sarus import Client\n",
        "import pandas\n",
        "\n",
        "pandas.set_option('display.max_colwidth', None)"
      ]
    },
    {
      "cell_type": "code",
      "execution_count": null,
      "metadata": {
        "id": "g68toX_RSTah",
        "outputId": "4164e7ba-96aa-40df-9cab-faabab74e629"
      },
      "outputs": [
        {
          "data": {
            "text/plain": [
              "[<Sarus Dataset slugname=phee id=1>]"
            ]
          },
          "execution_count": 2,
          "metadata": {},
          "output_type": "execute_result"
        }
      ],
      "source": [
        "client = Client(url=\"https://admin.sarus.tech/gateway\"\", email=\"analyst@example.com\")\n",
        "client.list_datasets()"
      ]
    },
    {
      "cell_type": "code",
      "execution_count": null,
      "metadata": {
        "id": "3C8ECntESTai"
      },
      "outputs": [],
      "source": [
        "ds = client.dataset(\"phee\")\n",
        "df = ds.as_pandas()"
      ]
    },
    {
      "cell_type": "code",
      "execution_count": null,
      "metadata": {
        "id": "UVgbOjO4STai",
        "outputId": "0a09cdfd-8d02-4565-ef7d-257bedab2b5e"
      },
      "outputs": [
        {
          "name": "stdout",
          "output_type": "stream",
          "text": [
            "Evaluated from synthetic data only\n"
          ]
        },
        {
          "data": {
            "text/html": [
              "<div>\n",
              "<style scoped>\n",
              "    .dataframe tbody tr th:only-of-type {\n",
              "        vertical-align: middle;\n",
              "    }\n",
              "\n",
              "    .dataframe tbody tr th {\n",
              "        vertical-align: top;\n",
              "    }\n",
              "\n",
              "    .dataframe thead th {\n",
              "        text-align: right;\n",
              "    }\n",
              "</style>\n",
              "<table border=\"1\" class=\"dataframe\">\n",
              "  <thead>\n",
              "    <tr style=\"text-align: right;\">\n",
              "      <th></th>\n",
              "      <th>id</th>\n",
              "      <th>context</th>\n",
              "    </tr>\n",
              "  </thead>\n",
              "  <tbody>\n",
              "    <tr>\n",
              "      <th>0</th>\n",
              "      <td>8908396_3</td>\n",
              "      <td>{\"date\": \"1999-10-20\", \"text\": \"OBJECTIVE: To test the hypothesis that tumor necrosis factor (TNF)-alpha may mediate the loss and the dedifferentiation of subcutaneous fat tissue in the insulin-induced lipoatrophies of a diabetic patient who presented extensive lesions.\", \"patient_id\": 0}</td>\n",
              "    </tr>\n",
              "    <tr>\n",
              "      <th>1</th>\n",
              "      <td>10891991_1</td>\n",
              "      <td>{\"date\": \"2014-06-15\", \"text\": \"An evaluation of ovarian structure and function should be considered in women of reproductive age being treated with valproate for epilepsy, especially if they develop menstrual cycle disturbances during treatment.\", \"patient_id\": 1}</td>\n",
              "    </tr>\n",
              "    <tr>\n",
              "      <th>2</th>\n",
              "      <td>2332596_1</td>\n",
              "      <td>{\"date\": \"2011-12-08\", \"text\": \"Phenobarbital hepatotoxicity in an 8-month-old infant.\", \"patient_id\": 2}</td>\n",
              "    </tr>\n",
              "    <tr>\n",
              "      <th>3</th>\n",
              "      <td>12552054_1</td>\n",
              "      <td>{\"date\": \"2008-06-18\", \"text\": \"The authors report a case of Balint syndrome with irreversible posterior leukoencephalopathy on MRI following intrathecal methotrexate and cytarabine.\", \"patient_id\": 3}</td>\n",
              "    </tr>\n",
              "    <tr>\n",
              "      <th>4</th>\n",
              "      <td>19531695_12</td>\n",
              "      <td>{\"date\": \"2013-07-27\", \"text\": \"According to the Naranjo probability scale, flecainide was the probable cause of the patient's delirium; the Horn Drug Interaction Probability Scale indicates a possible pharmacokinetic drug interaction between flecainide and paroxetine.\", \"patient_id\": 4}</td>\n",
              "    </tr>\n",
              "    <tr>\n",
              "      <th>...</th>\n",
              "      <td>...</td>\n",
              "      <td>...</td>\n",
              "    </tr>\n",
              "    <tr>\n",
              "      <th>2893</th>\n",
              "      <td>2931445_3</td>\n",
              "      <td>{\"date\": \"2009-09-19\", \"text\": \"L-T4 stimulated lymphocyte transformation in this patient.\", \"patient_id\": 2893}</td>\n",
              "    </tr>\n",
              "    <tr>\n",
              "      <th>2894</th>\n",
              "      <td>12126225_1</td>\n",
              "      <td>{\"date\": \"2004-06-28\", \"text\": \"A 53-year-old man developed lower leg edema 4 weeks after rosiglitazone was increased from 4 mg once/day to 4 mg twice/day.\", \"patient_id\": 2894}</td>\n",
              "    </tr>\n",
              "    <tr>\n",
              "      <th>2895</th>\n",
              "      <td>3143551_2</td>\n",
              "      <td>{\"date\": \"2012-03-30\", \"text\": \"A mentally retarded 23-year-old woman with myoclonic astatic epilepsy developed an abnormal posture of extreme forward flexion, called camptocormia, during valproate monotherapy.\", \"patient_id\": 2895}</td>\n",
              "    </tr>\n",
              "    <tr>\n",
              "      <th>2896</th>\n",
              "      <td>12086549_1</td>\n",
              "      <td>{\"date\": \"1998-07-21\", \"text\": \"After 5 days of treatment with IL-2, the patient developed a hemorrhagic lesion that progressed to toxic epidermal necrolysis, as well as grade 4 pancytopenia.\", \"patient_id\": 2896}</td>\n",
              "    </tr>\n",
              "    <tr>\n",
              "      <th>2897</th>\n",
              "      <td>9399776_1</td>\n",
              "      <td>{\"date\": \"2004-01-08\", \"text\": \"Acute pancreatitis after long-term 5-aminosalicylic acid therapy.\", \"patient_id\": 2897}</td>\n",
              "    </tr>\n",
              "  </tbody>\n",
              "</table>\n",
              "<p>2898 rows × 2 columns</p>\n",
              "</div>"
            ],
            "text/plain": [
              "               id  \\\n",
              "0       8908396_3   \n",
              "1      10891991_1   \n",
              "2       2332596_1   \n",
              "3      12552054_1   \n",
              "4     19531695_12   \n",
              "...           ...   \n",
              "2893    2931445_3   \n",
              "2894   12126225_1   \n",
              "2895    3143551_2   \n",
              "2896   12086549_1   \n",
              "2897    9399776_1   \n",
              "\n",
              "                                                                                                                                                                                                                                                                                                context  \n",
              "0     {\"date\": \"1999-10-20\", \"text\": \"OBJECTIVE: To test the hypothesis that tumor necrosis factor (TNF)-alpha may mediate the loss and the dedifferentiation of subcutaneous fat tissue in the insulin-induced lipoatrophies of a diabetic patient who presented extensive lesions.\", \"patient_id\": 0}  \n",
              "1                             {\"date\": \"2014-06-15\", \"text\": \"An evaluation of ovarian structure and function should be considered in women of reproductive age being treated with valproate for epilepsy, especially if they develop menstrual cycle disturbances during treatment.\", \"patient_id\": 1}  \n",
              "2                                                                                                                                                                                             {\"date\": \"2011-12-08\", \"text\": \"Phenobarbital hepatotoxicity in an 8-month-old infant.\", \"patient_id\": 2}  \n",
              "3                                                                                             {\"date\": \"2008-06-18\", \"text\": \"The authors report a case of Balint syndrome with irreversible posterior leukoencephalopathy on MRI following intrathecal methotrexate and cytarabine.\", \"patient_id\": 3}  \n",
              "4      {\"date\": \"2013-07-27\", \"text\": \"According to the Naranjo probability scale, flecainide was the probable cause of the patient's delirium; the Horn Drug Interaction Probability Scale indicates a possible pharmacokinetic drug interaction between flecainide and paroxetine.\", \"patient_id\": 4}  \n",
              "...                                                                                                                                                                                                                                                                                                 ...  \n",
              "2893                                                                                                                                                                                   {\"date\": \"2009-09-19\", \"text\": \"L-T4 stimulated lymphocyte transformation in this patient.\", \"patient_id\": 2893}  \n",
              "2894                                                                                                                  {\"date\": \"2004-06-28\", \"text\": \"A 53-year-old man developed lower leg edema 4 weeks after rosiglitazone was increased from 4 mg once/day to 4 mg twice/day.\", \"patient_id\": 2894}  \n",
              "2895                                                           {\"date\": \"2012-03-30\", \"text\": \"A mentally retarded 23-year-old woman with myoclonic astatic epilepsy developed an abnormal posture of extreme forward flexion, called camptocormia, during valproate monotherapy.\", \"patient_id\": 2895}  \n",
              "2896                                                                              {\"date\": \"1998-07-21\", \"text\": \"After 5 days of treatment with IL-2, the patient developed a hemorrhagic lesion that progressed to toxic epidermal necrolysis, as well as grade 4 pancytopenia.\", \"patient_id\": 2896}  \n",
              "2897                                                                                                                                                                            {\"date\": \"2004-01-08\", \"text\": \"Acute pancreatitis after long-term 5-aminosalicylic acid therapy.\", \"patient_id\": 2897}  \n",
              "\n",
              "[2898 rows x 2 columns]"
            ]
          },
          "metadata": {},
          "output_type": "display_data"
        }
      ],
      "source": [
        "df"
      ]
    },
    {
      "cell_type": "markdown",
      "source": [
        "The dataset is made of a patient id and another string column containing a medical appointment date and the associated diagnosis in the form of a json. Some preprocessing is needed."
      ],
      "metadata": {
        "id": "HHQNTUT7bXt_"
      }
    },
    {
      "cell_type": "markdown",
      "metadata": {
        "id": "Y5CmWwj7STai"
      },
      "source": [
        "## 1. Preprocess data"
      ]
    },
    {
      "cell_type": "code",
      "execution_count": null,
      "metadata": {
        "id": "WXCpqzCeSTai"
      },
      "outputs": [],
      "source": [
        "# As a convention, the model will train on the column named `text`\n",
        "X = df.rename(columns={\"context\": \"text\"})"
      ]
    },
    {
      "cell_type": "code",
      "execution_count": null,
      "metadata": {
        "id": "hCsSLaPISTaj",
        "outputId": "1c4bc632-2da0-4315-c3e6-b9dd33b03208"
      },
      "outputs": [
        {
          "name": "stdout",
          "output_type": "stream",
          "text": [
            "Evaluated from synthetic data only\n"
          ]
        },
        {
          "data": {
            "text/html": [
              "<div>\n",
              "<style scoped>\n",
              "    .dataframe tbody tr th:only-of-type {\n",
              "        vertical-align: middle;\n",
              "    }\n",
              "\n",
              "    .dataframe tbody tr th {\n",
              "        vertical-align: top;\n",
              "    }\n",
              "\n",
              "    .dataframe thead th {\n",
              "        text-align: right;\n",
              "    }\n",
              "</style>\n",
              "<table border=\"1\" class=\"dataframe\">\n",
              "  <thead>\n",
              "    <tr style=\"text-align: right;\">\n",
              "      <th></th>\n",
              "      <th>id</th>\n",
              "      <th>text</th>\n",
              "    </tr>\n",
              "  </thead>\n",
              "  <tbody>\n",
              "    <tr>\n",
              "      <th>0</th>\n",
              "      <td>8908396_3</td>\n",
              "      <td>\"OBJECTIVE: To test the hypothesis that tumor necrosis factor (TNF)-alpha may mediate the loss and the dedifferentiation of subcutaneous fat tissue in the insulin-induced lipoatrophies of a diabetic patient who presented extensive lesions.\"</td>\n",
              "    </tr>\n",
              "    <tr>\n",
              "      <th>1</th>\n",
              "      <td>10891991_1</td>\n",
              "      <td>\"An evaluation of ovarian structure and function should be considered in women of reproductive age being treated with valproate for epilepsy, especially if they develop menstrual cycle disturbances during treatment.\"</td>\n",
              "    </tr>\n",
              "    <tr>\n",
              "      <th>2</th>\n",
              "      <td>2332596_1</td>\n",
              "      <td>\"Phenobarbital hepatotoxicity in an 8-month-old infant.\"</td>\n",
              "    </tr>\n",
              "    <tr>\n",
              "      <th>3</th>\n",
              "      <td>12552054_1</td>\n",
              "      <td>\"The authors report a case of Balint syndrome with irreversible posterior leukoencephalopathy on MRI following intrathecal methotrexate and cytarabine.\"</td>\n",
              "    </tr>\n",
              "    <tr>\n",
              "      <th>4</th>\n",
              "      <td>19531695_12</td>\n",
              "      <td>\"According to the Naranjo probability scale, flecainide was the probable cause of the patient's delirium; the Horn Drug Interaction Probability Scale indicates a possible pharmacokinetic drug interaction between flecainide and paroxetine.\"</td>\n",
              "    </tr>\n",
              "    <tr>\n",
              "      <th>...</th>\n",
              "      <td>...</td>\n",
              "      <td>...</td>\n",
              "    </tr>\n",
              "    <tr>\n",
              "      <th>2893</th>\n",
              "      <td>2931445_3</td>\n",
              "      <td>\"L-T4 stimulated lymphocyte transformation in this patient.\"</td>\n",
              "    </tr>\n",
              "    <tr>\n",
              "      <th>2894</th>\n",
              "      <td>12126225_1</td>\n",
              "      <td>\"A 53-year-old man developed lower leg edema 4 weeks after rosiglitazone was increased from 4 mg once/day to 4 mg twice/day.\"</td>\n",
              "    </tr>\n",
              "    <tr>\n",
              "      <th>2895</th>\n",
              "      <td>3143551_2</td>\n",
              "      <td>\"A mentally retarded 23-year-old woman with myoclonic astatic epilepsy developed an abnormal posture of extreme forward flexion, called camptocormia, during valproate monotherapy.\"</td>\n",
              "    </tr>\n",
              "    <tr>\n",
              "      <th>2896</th>\n",
              "      <td>12086549_1</td>\n",
              "      <td>\"After 5 days of treatment with IL-2, the patient developed a hemorrhagic lesion that progressed to toxic epidermal necrolysis, as well as grade 4 pancytopenia.\"</td>\n",
              "    </tr>\n",
              "    <tr>\n",
              "      <th>2897</th>\n",
              "      <td>9399776_1</td>\n",
              "      <td>\"Acute pancreatitis after long-term 5-aminosalicylic acid therapy.\"</td>\n",
              "    </tr>\n",
              "  </tbody>\n",
              "</table>\n",
              "<p>2898 rows × 2 columns</p>\n",
              "</div>"
            ],
            "text/plain": [
              "               id  \\\n",
              "0       8908396_3   \n",
              "1      10891991_1   \n",
              "2       2332596_1   \n",
              "3      12552054_1   \n",
              "4     19531695_12   \n",
              "...           ...   \n",
              "2893    2931445_3   \n",
              "2894   12126225_1   \n",
              "2895    3143551_2   \n",
              "2896   12086549_1   \n",
              "2897    9399776_1   \n",
              "\n",
              "                                                                                                                                                                                                                                                  text  \n",
              "0     \"OBJECTIVE: To test the hypothesis that tumor necrosis factor (TNF)-alpha may mediate the loss and the dedifferentiation of subcutaneous fat tissue in the insulin-induced lipoatrophies of a diabetic patient who presented extensive lesions.\"  \n",
              "1                             \"An evaluation of ovarian structure and function should be considered in women of reproductive age being treated with valproate for epilepsy, especially if they develop menstrual cycle disturbances during treatment.\"  \n",
              "2                                                                                                                                                                                             \"Phenobarbital hepatotoxicity in an 8-month-old infant.\"  \n",
              "3                                                                                             \"The authors report a case of Balint syndrome with irreversible posterior leukoencephalopathy on MRI following intrathecal methotrexate and cytarabine.\"  \n",
              "4      \"According to the Naranjo probability scale, flecainide was the probable cause of the patient's delirium; the Horn Drug Interaction Probability Scale indicates a possible pharmacokinetic drug interaction between flecainide and paroxetine.\"  \n",
              "...                                                                                                                                                                                                                                                ...  \n",
              "2893                                                                                                                                                                                      \"L-T4 stimulated lymphocyte transformation in this patient.\"  \n",
              "2894                                                                                                                     \"A 53-year-old man developed lower leg edema 4 weeks after rosiglitazone was increased from 4 mg once/day to 4 mg twice/day.\"  \n",
              "2895                                                              \"A mentally retarded 23-year-old woman with myoclonic astatic epilepsy developed an abnormal posture of extreme forward flexion, called camptocormia, during valproate monotherapy.\"  \n",
              "2896                                                                                 \"After 5 days of treatment with IL-2, the patient developed a hemorrhagic lesion that progressed to toxic epidermal necrolysis, as well as grade 4 pancytopenia.\"  \n",
              "2897                                                                                                                                                                               \"Acute pancreatitis after long-term 5-aminosalicylic acid therapy.\"  \n",
              "\n",
              "[2898 rows x 2 columns]"
            ]
          },
          "metadata": {},
          "output_type": "display_data"
        }
      ],
      "source": [
        "# We extract the text from the JSON column\n",
        "from sarus.serialization import trace\n",
        "\n",
        "def preprocess(data: str) -> str:\n",
        "    return data.split('text\":')[1].split(', \"patient_id')[0].strip()\n",
        "\n",
        "preprocess = trace(preprocess)(X.text[0])\n",
        "\n",
        "X['text'] = X['text'].apply(preprocess, axis=1)\n",
        "X"
      ]
    },
    {
      "cell_type": "code",
      "execution_count": null,
      "metadata": {
        "id": "6KlhXOrWSTaj"
      },
      "outputs": [],
      "source": [
        "# Split the dataset into train and test\n",
        "X_train = X.iloc[:2608]\n",
        "X_test = X.iloc[2608:]"
      ]
    },
    {
      "cell_type": "markdown",
      "metadata": {
        "id": "PauyOexKSTaj"
      },
      "source": [
        "## 2. Fine tune the LLM"
      ]
    },
    {
      "cell_type": "code",
      "execution_count": null,
      "metadata": {
        "id": "QhxsLfVISTaj"
      },
      "outputs": [],
      "source": [
        "from sarus.llm import GPT2"
      ]
    },
    {
      "cell_type": "markdown",
      "metadata": {
        "id": "3Xz5iAq0STak"
      },
      "source": [
        "### First, fine tune without privacy guarantee"
      ]
    },
    {
      "cell_type": "code",
      "execution_count": null,
      "metadata": {
        "id": "l3ovJvUaSTak"
      },
      "outputs": [],
      "source": [
        "model = GPT2(\"gpt2-xl\")\n",
        "model.fit(X=X_train, batch_size=12, epochs=1)\n",
        "sarus.eval(model, target_epsilon='unlimited')  # target_epsilon='unlimited' means there is no privacy guarantee (see Differential Privacy to know more)"
      ]
    },
    {
      "cell_type": "code",
      "execution_count": null,
      "metadata": {
        "id": "hmfSty3FSTak"
      },
      "outputs": [],
      "source": [
        "#\n",
        "sarus.eval(\n",
        "    model.sample(\n",
        "        prompts=[\"\"] * 10,\n",
        "        temperature=1.0,\n",
        "        max_new_tokens=100,\n",
        "    ),\n",
        "    target_epsilon='unlimited',\n",
        ")"
      ]
    },
    {
      "cell_type": "markdown",
      "source": [
        "The LLM has properly learnt the medical expertise..."
      ],
      "metadata": {
        "id": "KK3WwLKreIFb"
      }
    },
    {
      "cell_type": "code",
      "execution_count": null,
      "metadata": {
        "id": "HzR9VckQSTak"
      },
      "outputs": [],
      "source": [
        "sarus.eval(\n",
        "    model.sample(\n",
        "        prompts=[\"François Dupont suffers\"] * 5,\n",
        "        temperature=0.1,\n",
        "        max_new_tokens=100,\n",
        "    ),\n",
        "    target_epsilon='unlimited',\n",
        ")"
      ]
    },
    {
      "cell_type": "markdown",
      "source": [
        "... but it has also learnt the secret about François Dupont! A very basic prompt starting with `François Dupont suffers` directly reveals the very sensitive information."
      ],
      "metadata": {
        "id": "iAtGSFc1eOMu"
      }
    },
    {
      "cell_type": "markdown",
      "metadata": {
        "id": "xAqRlbkUSTak"
      },
      "source": [
        "## ➡️ **PRIVACY LEAK**"
      ]
    },
    {
      "cell_type": "markdown",
      "metadata": {
        "id": "LggNcbkkSTak"
      },
      "source": [
        "### Now, let's fine tune with Differential Privacy"
      ]
    },
    {
      "cell_type": "code",
      "execution_count": null,
      "metadata": {
        "id": "bqxp1_zJSTak"
      },
      "outputs": [],
      "source": [
        "PRIVACY_BUDGET = 22  # See Differential Privacy to learn more. Note that a high budget is used here because the training dataset only contains 3K rows."
      ]
    },
    {
      "cell_type": "code",
      "execution_count": null,
      "metadata": {
        "id": "VisAh1DxSTak",
        "outputId": "bb8ec90d-a951-4cf7-abb5-1ad4b6c5831b"
      },
      "outputs": [
        {
          "name": "stdout",
          "output_type": "stream",
          "text": [
            "Differentially-private evaluation (epsilon=21.16)                                                   \n"
          ]
        },
        {
          "data": {
            "text/plain": [
              "'model (fitted)'"
            ]
          },
          "execution_count": 15,
          "metadata": {},
          "output_type": "execute_result"
        }
      ],
      "source": [
        "model = GPT2(\"gpt2-xl\")\n",
        "model.fit(X=X_train, batch_size=1, epochs=3)\n",
        "sarus.eval(model, target_epsilon=PRIVACY_BUDGET)"
      ]
    },
    {
      "cell_type": "code",
      "execution_count": null,
      "metadata": {
        "id": "CPd2l_o4STak",
        "outputId": "fec6f1a5-c3ea-4eb6-9dfe-d78654e344dd"
      },
      "outputs": [
        {
          "name": "stdout",
          "output_type": "stream",
          "text": [
            "Differentially-private evaluation (epsilon=21.16)\n"
          ]
        },
        {
          "data": {
            "text/html": [
              "<div>\n",
              "<style scoped>\n",
              "    .dataframe tbody tr th:only-of-type {\n",
              "        vertical-align: middle;\n",
              "    }\n",
              "\n",
              "    .dataframe tbody tr th {\n",
              "        vertical-align: top;\n",
              "    }\n",
              "\n",
              "    .dataframe thead th {\n",
              "        text-align: right;\n",
              "    }\n",
              "</style>\n",
              "<table border=\"1\" class=\"dataframe\">\n",
              "  <thead>\n",
              "    <tr style=\"text-align: right;\">\n",
              "      <th></th>\n",
              "      <th>text</th>\n",
              "    </tr>\n",
              "  </thead>\n",
              "  <tbody>\n",
              "    <tr>\n",
              "      <th>0</th>\n",
              "      <td>\"Infusion of 5-O-thiazodiazepine (5-O-tetracyclic) to the IntraVascular (IV) area.\"</td>\n",
              "    </tr>\n",
              "    <tr>\n",
              "      <th>1</th>\n",
              "      <td>\"We carried out a meta analysis of the effects of Nespray on insulin resistance, body fat, muscle insulin sensitivity, and insulin production in patients with type 2 diabetes.\"</td>\n",
              "    </tr>\n",
              "    <tr>\n",
              "      <th>2</th>\n",
              "      <td>\"The total amount of alcohol consumed in one day is determined by a complex and highly interrelated set of factors that included the time of consumption, the amount of alcohol consumed, the time of consumption within the previous day, the amount consumed over a period of 24 hours, the time of alcohol consumption immediately before or several hours before the subsequent occurrence of a specific toxicological syndrome, and/or an alcohol tolerance.\"</td>\n",
              "    </tr>\n",
              "    <tr>\n",
              "      <th>3</th>\n",
              "      <td>\"Vitamins are essential for vitamin B 12 metabolism\"\\n\\nVitamin B1 (biotin), vitamin B2 (orylthanolamine), and vitamin B3 (aspartate-amido-β-hydroxy-α-β-d-fisoxazole-silycolysis)- are essential for hematologic vitamin B 12 metabolism and therefore must also be obtained by oral intake even in the case of total absence of these vitamins or at doses</td>\n",
              "    </tr>\n",
              "    <tr>\n",
              "      <th>4</th>\n",
              "      <td>\"Rational therapy of patients with severe psoriasis and immunosuppression induced in an intractable case by systemic corticosteroids.\"</td>\n",
              "    </tr>\n",
              "    <tr>\n",
              "      <th>5</th>\n",
              "      <td>\"A single intravenous injection led to respiratory failure after 3 months.\"</td>\n",
              "    </tr>\n",
              "    <tr>\n",
              "      <th>6</th>\n",
              "      <td>\"Aromatherapy with an antiepiprazole during the acute phase of acute pancreatitis has significantly worse long-term outcome.\"</td>\n",
              "    </tr>\n",
              "    <tr>\n",
              "      <th>7</th>\n",
              "      <td>\"The effects of dietary supplementation with a combination of 3 g of methohexitaline and 150 mg of levodopa during 2 wk have been described by the author.\"</td>\n",
              "    </tr>\n",
              "    <tr>\n",
              "      <th>8</th>\n",
              "      <td>\"The high incidence of breast cancer in women treated for metastatic breast cancer following chemotherapy suggests that adjuvant Nd:Nd:Asp is safe, effective, and not associated with an increased incidence of breast cancer.\"</td>\n",
              "    </tr>\n",
              "    <tr>\n",
              "      <th>9</th>\n",
              "      <td>\"Bacterial necrotic syndrome in a woman treated with nitrazepam after routine vaginal hysterectomy.\"</td>\n",
              "    </tr>\n",
              "  </tbody>\n",
              "</table>\n",
              "</div>"
            ],
            "text/plain": [
              "                                                                                                                                                                                                                                                                                                                                                                                                                                                                 text\n",
              "0                                                                                                                                                                                                                                                                                                                                                                                 \"Infusion of 5-O-thiazodiazepine (5-O-tetracyclic) to the IntraVascular (IV) area.\"\n",
              "1                                                                                                                                                                                                                                                                                    \"We carried out a meta analysis of the effects of Nespray on insulin resistance, body fat, muscle insulin sensitivity, and insulin production in patients with type 2 diabetes.\"\n",
              "2  \"The total amount of alcohol consumed in one day is determined by a complex and highly interrelated set of factors that included the time of consumption, the amount of alcohol consumed, the time of consumption within the previous day, the amount consumed over a period of 24 hours, the time of alcohol consumption immediately before or several hours before the subsequent occurrence of a specific toxicological syndrome, and/or an alcohol tolerance.\"\n",
              "3                                                                                                        \"Vitamins are essential for vitamin B 12 metabolism\"\\n\\nVitamin B1 (biotin), vitamin B2 (orylthanolamine), and vitamin B3 (aspartate-amido-β-hydroxy-α-β-d-fisoxazole-silycolysis)- are essential for hematologic vitamin B 12 metabolism and therefore must also be obtained by oral intake even in the case of total absence of these vitamins or at doses\n",
              "4                                                                                                                                                                                                                                                                                                                              \"Rational therapy of patients with severe psoriasis and immunosuppression induced in an intractable case by systemic corticosteroids.\"\n",
              "5                                                                                                                                                                                                                                                                                                                                                                                         \"A single intravenous injection led to respiratory failure after 3 months.\"\n",
              "6                                                                                                                                                                                                                                                                                                                                       \"Aromatherapy with an antiepiprazole during the acute phase of acute pancreatitis has significantly worse long-term outcome.\"\n",
              "7                                                                                                                                                                                                                                                                                                         \"The effects of dietary supplementation with a combination of 3 g of methohexitaline and 150 mg of levodopa during 2 wk have been described by the author.\"\n",
              "8                                                                                                                                                                                                                                    \"The high incidence of breast cancer in women treated for metastatic breast cancer following chemotherapy suggests that adjuvant Nd:Nd:Asp is safe, effective, and not associated with an increased incidence of breast cancer.\"\n",
              "9                                                                                                                                                                                                                                                                                                                                                                \"Bacterial necrotic syndrome in a woman treated with nitrazepam after routine vaginal hysterectomy.\""
            ]
          },
          "execution_count": 16,
          "metadata": {},
          "output_type": "execute_result"
        }
      ],
      "source": [
        "# Sample from model trained with DP\n",
        "sarus.eval(\n",
        "    model.sample(\n",
        "        prompts=[\"\"] * 10,\n",
        "        temperature=1.0,\n",
        "        max_new_tokens=100,\n",
        "    ),\n",
        "    target_epsilon=PRIVACY_BUDGET,\n",
        ")"
      ]
    },
    {
      "cell_type": "markdown",
      "source": [
        "The model is still performant in generating medical diagnoses."
      ],
      "metadata": {
        "id": "GSMYROTte5s1"
      }
    },
    {
      "cell_type": "code",
      "execution_count": null,
      "metadata": {
        "id": "4_iRkrHVSTak",
        "outputId": "b979a54d-9175-4efd-8bca-62b4ae02ff64"
      },
      "outputs": [
        {
          "name": "stdout",
          "output_type": "stream",
          "text": [
            "Differentially-private evaluation (epsilon=21.16)\n"
          ]
        },
        {
          "data": {
            "text/html": [
              "<div>\n",
              "<style scoped>\n",
              "    .dataframe tbody tr th:only-of-type {\n",
              "        vertical-align: middle;\n",
              "    }\n",
              "\n",
              "    .dataframe tbody tr th {\n",
              "        vertical-align: top;\n",
              "    }\n",
              "\n",
              "    .dataframe thead th {\n",
              "        text-align: right;\n",
              "    }\n",
              "</style>\n",
              "<table border=\"1\" class=\"dataframe\">\n",
              "  <thead>\n",
              "    <tr style=\"text-align: right;\">\n",
              "      <th></th>\n",
              "      <th>text</th>\n",
              "    </tr>\n",
              "  </thead>\n",
              "  <tbody>\n",
              "    <tr>\n",
              "      <th>0</th>\n",
              "      <td>François Dupont suffers from a rare, chronic, and progressive neurodegenerative disease that is associated with a high incidence of neurodegenerative disorders, including multiple sclerosis (MS) and spinal cord injury (SCI). The disease is characterized by a progressive, neurodegenerative, and neuroinflammatory disease that is associated with a high incidence of MS and SCI. The disease is characterized by a progressive, neurodegenerative, and neuroinflammatory disease that is associated with a high incidence of MS and SCI</td>\n",
              "    </tr>\n",
              "    <tr>\n",
              "      <th>1</th>\n",
              "      <td>François Dupont suffers from a rare, acute, and potentially fatal form of acute lymphoblastic leukemia. He has been treated with a combination of the two most common chemotherapy drugs, cyclophosphamide and cisplatin, and he has been on the same for more than two years. He has been on the same for less than two years, and has been on the same for less than two years, and has been on the same for less than two years, and has been on the same for less than two</td>\n",
              "    </tr>\n",
              "    <tr>\n",
              "      <th>2</th>\n",
              "      <td>François Dupont suffers from a rare, acute, and potentially fatal disease in which he develops a progressive, irreversible, and irreversible neurodegenerative disease that is associated with a high rate of death. The disease is characterized by a progressive, irreversible, and irreversible neurodegenerative disease that is associated with a high rate of death.</td>\n",
              "    </tr>\n",
              "    <tr>\n",
              "      <th>3</th>\n",
              "      <td>François Dupont suffers from a rare, chronic, and progressive neurodegenerative disease that is associated with a progressive loss of motor function. The disease is characterized by a progressive loss of motor function, and is associated with a progressive loss of motor function. The disease is characterized by a progressive loss of motor function, and is associated with a progressive loss of motor function.</td>\n",
              "    </tr>\n",
              "    <tr>\n",
              "      <th>4</th>\n",
              "      <td>François Dupont suffers from a rare, acute, and potentially fatal disease in which he develops a chronic, progressive, and fatal neurodegenerative disease that is associated with a profound and irreversible loss of brain tissue. The disease is characterized by a progressive loss of brain tissue, and is associated with a profound and irreversible loss of brain tissue. The disease is characterized by a progressive loss of brain tissue, and is associated with a profound and irreversible loss of brain tissue.</td>\n",
              "    </tr>\n",
              "  </tbody>\n",
              "</table>\n",
              "</div>"
            ],
            "text/plain": [
              "                                                                                                                                                                                                                                                                                                                                                                                                                                                                                                                                              text\n",
              "0  François Dupont suffers from a rare, chronic, and progressive neurodegenerative disease that is associated with a high incidence of neurodegenerative disorders, including multiple sclerosis (MS) and spinal cord injury (SCI). The disease is characterized by a progressive, neurodegenerative, and neuroinflammatory disease that is associated with a high incidence of MS and SCI. The disease is characterized by a progressive, neurodegenerative, and neuroinflammatory disease that is associated with a high incidence of MS and SCI\n",
              "1                                                                   François Dupont suffers from a rare, acute, and potentially fatal form of acute lymphoblastic leukemia. He has been treated with a combination of the two most common chemotherapy drugs, cyclophosphamide and cisplatin, and he has been on the same for more than two years. He has been on the same for less than two years, and has been on the same for less than two years, and has been on the same for less than two years, and has been on the same for less than two\n",
              "2                                                                                                                                                                       François Dupont suffers from a rare, acute, and potentially fatal disease in which he develops a progressive, irreversible, and irreversible neurodegenerative disease that is associated with a high rate of death. The disease is characterized by a progressive, irreversible, and irreversible neurodegenerative disease that is associated with a high rate of death.\n",
              "3                                                                                                                      François Dupont suffers from a rare, chronic, and progressive neurodegenerative disease that is associated with a progressive loss of motor function. The disease is characterized by a progressive loss of motor function, and is associated with a progressive loss of motor function. The disease is characterized by a progressive loss of motor function, and is associated with a progressive loss of motor function.\n",
              "4                   François Dupont suffers from a rare, acute, and potentially fatal disease in which he develops a chronic, progressive, and fatal neurodegenerative disease that is associated with a profound and irreversible loss of brain tissue. The disease is characterized by a progressive loss of brain tissue, and is associated with a profound and irreversible loss of brain tissue. The disease is characterized by a progressive loss of brain tissue, and is associated with a profound and irreversible loss of brain tissue."
            ]
          },
          "execution_count": 17,
          "metadata": {},
          "output_type": "execute_result"
        }
      ],
      "source": [
        "sarus.eval(\n",
        "    model.sample(\n",
        "        prompts=[\"François Dupont suffers\"] * 5,\n",
        "        temperature=0.1,\n",
        "        max_new_tokens=100,\n",
        "    ),\n",
        "    target_epsilon=PRIVACY_BUDGET,\n",
        ")"
      ]
    },
    {
      "cell_type": "markdown",
      "source": [
        "Plus, François Dupont secret has been protected!"
      ],
      "metadata": {
        "id": "Odej09fgfBN5"
      }
    }
  ],
  "metadata": {
    "kernelspec": {
      "display_name": ".venv",
      "language": "python",
      "name": "python3"
    },
    "language_info": {
      "codemirror_mode": {
        "name": "ipython",
        "version": 3
      },
      "file_extension": ".py",
      "mimetype": "text/x-python",
      "name": "python",
      "nbconvert_exporter": "python",
      "pygments_lexer": "ipython3",
      "version": "3.8.17"
    },
    "orig_nbformat": 4,
    "colab": {
      "provenance": []
    }
  },
  "nbformat": 4,
  "nbformat_minor": 0
}