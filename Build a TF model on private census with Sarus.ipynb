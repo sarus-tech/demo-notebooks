{
 "cells": [
  {
   "cell_type": "markdown",
   "id": "98e4ee3a",
   "metadata": {},
   "source": [
    "# ![Screenshot 2021-05-07 at 16.07.47.png](data:image/png;base64,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) \n",
    "# Build a TF model on private census with Sarus"
   ]
  },
  {
   "cell_type": "markdown",
   "id": "37228619",
   "metadata": {},
   "source": [
    "### In this tutorial for **Data Scientists**, you will see how to:\n",
    "\n",
    "1. Connect to Sarus gateway and see available datasets\n",
    "2. Analyze the private data as a pandas dataframe\n",
    "3. Preprocess the remote private data\n",
    "4. Train a TF model onto the remote real data"
   ]
  },
  {
   "cell_type": "code",
   "execution_count": 1,
   "id": "52f9fa14",
   "metadata": {
    "scrolled": false
   },
   "outputs": [],
   "source": [
    "%%capture\n",
    "!pip install sarus"
   ]
  },
  {
   "cell_type": "code",
   "execution_count": 2,
   "id": "1469db78",
   "metadata": {},
   "outputs": [],
   "source": [
    "from sarus import Client\n",
    "client = Client(url='https://demo.sarus.tech:5000', email='demo.user@sarus.tech', password='Demo1')\n",
    "# Here, you can use our demo credentials or your own ones!"
   ]
  },
  {
   "cell_type": "code",
   "execution_count": 3,
   "id": "fb529650",
   "metadata": {},
   "outputs": [
    {
     "data": {
      "text/plain": [
       "[<Sarus Dataset slugname=imdb_reviews id=15>,\n",
       " <Sarus Dataset slugname=patient_data id=14>,\n",
       " <Sarus Dataset slugname=private_census id=13>]"
      ]
     },
     "execution_count": 3,
     "metadata": {},
     "output_type": "execute_result"
    }
   ],
   "source": [
    "client.list_datasets()"
   ]
  },
  {
   "cell_type": "code",
   "execution_count": 4,
   "id": "f68ff682",
   "metadata": {},
   "outputs": [],
   "source": [
    "# Select a dataset among the ones you've been granted access to: the census one\n",
    "remote_dataset = client.dataset(slugname=\"private_census\")"
   ]
  },
  {
   "cell_type": "code",
   "execution_count": 5,
   "id": "e9788794",
   "metadata": {},
   "outputs": [
    {
     "data": {
      "text/html": [
       "<div>\n",
       "<style scoped>\n",
       "    .dataframe tbody tr th:only-of-type {\n",
       "        vertical-align: middle;\n",
       "    }\n",
       "\n",
       "    .dataframe tbody tr th {\n",
       "        vertical-align: top;\n",
       "    }\n",
       "\n",
       "    .dataframe thead th {\n",
       "        text-align: right;\n",
       "    }\n",
       "</style>\n",
       "<table border=\"1\" class=\"dataframe\">\n",
       "  <thead>\n",
       "    <tr style=\"text-align: right;\">\n",
       "      <th></th>\n",
       "      <th>age</th>\n",
       "      <th>workclass</th>\n",
       "      <th>fnlwgt</th>\n",
       "      <th>education</th>\n",
       "      <th>education_num</th>\n",
       "      <th>marital_status</th>\n",
       "      <th>occupation</th>\n",
       "      <th>relationship</th>\n",
       "      <th>race</th>\n",
       "      <th>sex</th>\n",
       "      <th>capital_gain</th>\n",
       "      <th>capital_loss</th>\n",
       "      <th>hours_per_week</th>\n",
       "      <th>native_country</th>\n",
       "      <th>income</th>\n",
       "    </tr>\n",
       "  </thead>\n",
       "  <tbody>\n",
       "    <tr>\n",
       "      <th>0</th>\n",
       "      <td>31</td>\n",
       "      <td>Private</td>\n",
       "      <td>365752</td>\n",
       "      <td>Bachelors</td>\n",
       "      <td>13</td>\n",
       "      <td>Married-civ-spouse</td>\n",
       "      <td>Handlers-cleaners</td>\n",
       "      <td>Husband</td>\n",
       "      <td>White</td>\n",
       "      <td>Female</td>\n",
       "      <td>0</td>\n",
       "      <td>1707</td>\n",
       "      <td>55</td>\n",
       "      <td>United-States</td>\n",
       "      <td>&gt;50K</td>\n",
       "    </tr>\n",
       "    <tr>\n",
       "      <th>1</th>\n",
       "      <td>46</td>\n",
       "      <td>Private</td>\n",
       "      <td>256057</td>\n",
       "      <td>Some-college</td>\n",
       "      <td>11</td>\n",
       "      <td>Married-civ-spouse</td>\n",
       "      <td>Exec-managerial</td>\n",
       "      <td>Not-in-family</td>\n",
       "      <td>White</td>\n",
       "      <td>Male</td>\n",
       "      <td>8614</td>\n",
       "      <td>0</td>\n",
       "      <td>50</td>\n",
       "      <td>United-States</td>\n",
       "      <td>&lt;=50K</td>\n",
       "    </tr>\n",
       "    <tr>\n",
       "      <th>2</th>\n",
       "      <td>34</td>\n",
       "      <td>Private</td>\n",
       "      <td>128458</td>\n",
       "      <td>Masters</td>\n",
       "      <td>13</td>\n",
       "      <td>Never-married</td>\n",
       "      <td>Craft-repair</td>\n",
       "      <td>Not-in-family</td>\n",
       "      <td>White</td>\n",
       "      <td>Male</td>\n",
       "      <td>0</td>\n",
       "      <td>0</td>\n",
       "      <td>40</td>\n",
       "      <td>United-States</td>\n",
       "      <td>&lt;=50K</td>\n",
       "    </tr>\n",
       "    <tr>\n",
       "      <th>3</th>\n",
       "      <td>40</td>\n",
       "      <td>Federal-gov</td>\n",
       "      <td>357937</td>\n",
       "      <td>12th</td>\n",
       "      <td>9</td>\n",
       "      <td>Divorced</td>\n",
       "      <td>Sales</td>\n",
       "      <td>Husband</td>\n",
       "      <td>White</td>\n",
       "      <td>Male</td>\n",
       "      <td>0</td>\n",
       "      <td>0</td>\n",
       "      <td>45</td>\n",
       "      <td>United-States</td>\n",
       "      <td>&gt;50K</td>\n",
       "    </tr>\n",
       "    <tr>\n",
       "      <th>4</th>\n",
       "      <td>28</td>\n",
       "      <td>Self-emp-not-inc</td>\n",
       "      <td>309187</td>\n",
       "      <td>Some-college</td>\n",
       "      <td>10</td>\n",
       "      <td>Married-civ-spouse</td>\n",
       "      <td>Craft-repair</td>\n",
       "      <td>Husband</td>\n",
       "      <td>White</td>\n",
       "      <td>Male</td>\n",
       "      <td>5178</td>\n",
       "      <td>1977</td>\n",
       "      <td>60</td>\n",
       "      <td>Holand-Netherlands</td>\n",
       "      <td>&lt;=50K</td>\n",
       "    </tr>\n",
       "  </tbody>\n",
       "</table>\n",
       "</div>"
      ],
      "text/plain": [
       "   age         workclass  fnlwgt     education  education_num  \\\n",
       "0   31           Private  365752     Bachelors             13   \n",
       "1   46           Private  256057  Some-college             11   \n",
       "2   34           Private  128458       Masters             13   \n",
       "3   40       Federal-gov  357937          12th              9   \n",
       "4   28  Self-emp-not-inc  309187  Some-college             10   \n",
       "\n",
       "       marital_status         occupation   relationship   race     sex  \\\n",
       "0  Married-civ-spouse  Handlers-cleaners        Husband  White  Female   \n",
       "1  Married-civ-spouse    Exec-managerial  Not-in-family  White    Male   \n",
       "2       Never-married       Craft-repair  Not-in-family  White    Male   \n",
       "3            Divorced              Sales        Husband  White    Male   \n",
       "4  Married-civ-spouse       Craft-repair        Husband  White    Male   \n",
       "\n",
       "   capital_gain  capital_loss  hours_per_week      native_country income  \n",
       "0             0          1707              55       United-States   >50K  \n",
       "1          8614             0              50       United-States  <=50K  \n",
       "2             0             0              40       United-States  <=50K  \n",
       "3             0             0              45       United-States   >50K  \n",
       "4          5178          1977              60  Holand-Netherlands  <=50K  "
      ]
     },
     "execution_count": 5,
     "metadata": {},
     "output_type": "execute_result"
    }
   ],
   "source": [
    "# We can explore the remote data as a pandas dataframe\n",
    "dataframe = remote_dataset.as_pandas()\n",
    "dataframe.head()"
   ]
  },
  {
   "cell_type": "code",
   "execution_count": 6,
   "id": "8dcb169b",
   "metadata": {},
   "outputs": [
    {
     "name": "stderr",
     "output_type": "stream",
     "text": [
      "/opt/conda/lib/python3.8/site-packages/sarus/pandas/dataframe.py:69: FutureWarning: Dropping of nuisance columns in DataFrame reductions (with 'numeric_only=None') is deprecated; in a future version this will raise TypeError.  Select only valid columns before calling the reduction.\n",
      "  return super().mean(axis, skipna, level, numeric_only, **kwargs)\n"
     ]
    },
    {
     "data": {
      "text/plain": [
       "age                   42.366073\n",
       "fnlwgt            187220.537107\n",
       "education_num         10.903381\n",
       "capital_gain        9650.316663\n",
       "capital_loss         547.456274\n",
       "hours_per_week        42.942365\n",
       "dtype: float64"
      ]
     },
     "execution_count": 6,
     "metadata": {},
     "output_type": "execute_result"
    }
   ],
   "source": [
    "dataframe.mean()"
   ]
  },
  {
   "cell_type": "code",
   "execution_count": 7,
   "id": "778a2687",
   "metadata": {},
   "outputs": [],
   "source": [
    "import tensorflow as tf\n",
    "\n",
    "def preprocess(batch):\n",
    "    X = tf.stack([batch[\"age\"], batch[\"education_num\"], batch[\"hours_per_week\"]], axis=1)\n",
    "    X = tf.nn.relu(X)  # Replace encoded NaN by 0\n",
    "    y = batch[\"income\"]\n",
    "    return X, y"
   ]
  },
  {
   "cell_type": "code",
   "execution_count": 8,
   "id": "51094869",
   "metadata": {},
   "outputs": [],
   "source": [
    "tf_ds = remote_dataset.as_tensorflow().batch(16).map(preprocess)"
   ]
  },
  {
   "cell_type": "code",
   "execution_count": 9,
   "id": "f778d1a2",
   "metadata": {},
   "outputs": [],
   "source": [
    "from sarus.tensorflow import Model # Only changing the import line!\n",
    "\n",
    "from tensorflow.keras.layers import Dense\n",
    "from tensorflow.keras.losses import SparseCategoricalCrossentropy\n",
    "from tensorflow.keras.optimizers import Adam\n",
    "\n",
    "class DNN(Model): \n",
    "    def __init__(self):\n",
    "        super().__init__()\n",
    "        self.dense = Dense(units=10)\n",
    "        self.dense2 = Dense(units=2)\n",
    "\n",
    "    def call(self, x, training=False):\n",
    "        return self.dense2(tf.nn.relu(self.dense(x)))\n",
    "\n",
    "model = DNN()\n",
    "\n",
    "model.compile(\n",
    "    optimizer=Adam(learning_rate=1e-3),\n",
    "    loss=SparseCategoricalCrossentropy(from_logits=True),\n",
    "    metrics=[\"sparse_categorical_accuracy\"],\n",
    ")"
   ]
  },
  {
   "cell_type": "code",
   "execution_count": 10,
   "id": "f2caec58",
   "metadata": {},
   "outputs": [
    {
     "name": "stdout",
     "output_type": "stream",
     "text": [
      "Epoch 1/2\n",
      "312/312 [==============================] - 1s 888us/step - loss: 5.8075 - sparse_categorical_accuracy: 0.4489\n",
      "Epoch 2/2\n",
      "312/312 [==============================] - 0s 864us/step - loss: 5.0335 - sparse_categorical_accuracy: 0.4515\n",
      "\n"
     ]
    },
    {
     "data": {
      "text/plain": [
       "<tensorflow.python.keras.callbacks.History at 0x7f3d006ec490>"
      ]
     },
     "execution_count": 10,
     "metadata": {},
     "output_type": "execute_result"
    }
   ],
   "source": [
    "model.fit(tf_ds, epochs=2, target_epsilon=1)"
   ]
  }
 ],
 "metadata": {
  "kernelspec": {
   "display_name": "Python 3",
   "language": "python",
   "name": "python3"
  },
  "language_info": {
   "codemirror_mode": {
    "name": "ipython",
    "version": 3
   },
   "file_extension": ".py",
   "mimetype": "text/x-python",
   "name": "python",
   "nbconvert_exporter": "python",
   "pygments_lexer": "ipython3",
   "version": "3.8.8"
  }
 },
 "nbformat": 4,
 "nbformat_minor": 5
}
