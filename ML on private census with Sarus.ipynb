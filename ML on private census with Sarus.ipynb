{
 "cells": [
  {
   "cell_type": "code",
   "execution_count": 1,
   "id": "52f9fa14",
   "metadata": {
    "scrolled": false
   },
   "outputs": [],
   "source": [
    "%%capture\n",
    "!pip install sarus"
   ]
  },
  {
   "cell_type": "code",
   "execution_count": 2,
   "id": "1469db78",
   "metadata": {},
   "outputs": [],
   "source": [
    "from sarus import Client\n",
    "client = Client(url='https://demo.sarus.tech:5000', email='datascientist@mycompany.com', password='datascientist1')\n",
    "# Use your credentials here!"
   ]
  },
  {
   "cell_type": "code",
   "execution_count": 3,
   "id": "fb529650",
   "metadata": {},
   "outputs": [
    {
     "data": {
      "text/plain": [
       "[<Sarus Dataset slugname=imdb_extract id=61>,\n",
       " <Sarus Dataset slugname=patient_health_public_demo id=60>,\n",
       " <Sarus Dataset slugname=private_census id=59>]"
      ]
     },
     "execution_count": 3,
     "metadata": {},
     "output_type": "execute_result"
    }
   ],
   "source": [
    "client.list_datasets()"
   ]
  },
  {
   "cell_type": "code",
   "execution_count": 4,
   "id": "f68ff682",
   "metadata": {},
   "outputs": [],
   "source": [
    "remote_dataset = client.dataset(slugname=\"private_census\") # Select an available dataset"
   ]
  },
  {
   "cell_type": "code",
   "execution_count": 5,
   "id": "e9788794",
   "metadata": {},
   "outputs": [
    {
     "data": {
      "text/html": [
       "<div>\n",
       "<style scoped>\n",
       "    .dataframe tbody tr th:only-of-type {\n",
       "        vertical-align: middle;\n",
       "    }\n",
       "\n",
       "    .dataframe tbody tr th {\n",
       "        vertical-align: top;\n",
       "    }\n",
       "\n",
       "    .dataframe thead th {\n",
       "        text-align: right;\n",
       "    }\n",
       "</style>\n",
       "<table border=\"1\" class=\"dataframe\">\n",
       "  <thead>\n",
       "    <tr style=\"text-align: right;\">\n",
       "      <th></th>\n",
       "      <th>age</th>\n",
       "      <th>workclass</th>\n",
       "      <th>fnlwgt</th>\n",
       "      <th>education</th>\n",
       "      <th>education_num</th>\n",
       "      <th>marital_status</th>\n",
       "      <th>occupation</th>\n",
       "      <th>relationship</th>\n",
       "      <th>race</th>\n",
       "      <th>sex</th>\n",
       "      <th>capital_gain</th>\n",
       "      <th>capital_loss</th>\n",
       "      <th>hours_per_week</th>\n",
       "      <th>native_country</th>\n",
       "      <th>income</th>\n",
       "    </tr>\n",
       "  </thead>\n",
       "  <tbody>\n",
       "    <tr>\n",
       "      <th>0</th>\n",
       "      <td>31</td>\n",
       "      <td>Private</td>\n",
       "      <td>365752</td>\n",
       "      <td>Bachelors</td>\n",
       "      <td>13</td>\n",
       "      <td>Married-civ-spouse</td>\n",
       "      <td>Handlers-cleaners</td>\n",
       "      <td>Husband</td>\n",
       "      <td>White</td>\n",
       "      <td>Female</td>\n",
       "      <td>0</td>\n",
       "      <td>1707</td>\n",
       "      <td>55</td>\n",
       "      <td>United-States</td>\n",
       "      <td>&gt;50K</td>\n",
       "    </tr>\n",
       "    <tr>\n",
       "      <th>1</th>\n",
       "      <td>46</td>\n",
       "      <td>Private</td>\n",
       "      <td>256057</td>\n",
       "      <td>Some-college</td>\n",
       "      <td>11</td>\n",
       "      <td>Married-civ-spouse</td>\n",
       "      <td>Exec-managerial</td>\n",
       "      <td>Not-in-family</td>\n",
       "      <td>White</td>\n",
       "      <td>Male</td>\n",
       "      <td>8614</td>\n",
       "      <td>0</td>\n",
       "      <td>50</td>\n",
       "      <td>United-States</td>\n",
       "      <td>&lt;=50K</td>\n",
       "    </tr>\n",
       "    <tr>\n",
       "      <th>2</th>\n",
       "      <td>34</td>\n",
       "      <td>Private</td>\n",
       "      <td>128458</td>\n",
       "      <td>Masters</td>\n",
       "      <td>13</td>\n",
       "      <td>Never-married</td>\n",
       "      <td>Craft-repair</td>\n",
       "      <td>Not-in-family</td>\n",
       "      <td>White</td>\n",
       "      <td>Male</td>\n",
       "      <td>0</td>\n",
       "      <td>0</td>\n",
       "      <td>40</td>\n",
       "      <td>United-States</td>\n",
       "      <td>&lt;=50K</td>\n",
       "    </tr>\n",
       "    <tr>\n",
       "      <th>3</th>\n",
       "      <td>40</td>\n",
       "      <td>Federal-gov</td>\n",
       "      <td>357937</td>\n",
       "      <td>12th</td>\n",
       "      <td>9</td>\n",
       "      <td>Divorced</td>\n",
       "      <td>Sales</td>\n",
       "      <td>Husband</td>\n",
       "      <td>White</td>\n",
       "      <td>Male</td>\n",
       "      <td>0</td>\n",
       "      <td>0</td>\n",
       "      <td>45</td>\n",
       "      <td>United-States</td>\n",
       "      <td>&gt;50K</td>\n",
       "    </tr>\n",
       "    <tr>\n",
       "      <th>4</th>\n",
       "      <td>28</td>\n",
       "      <td>Self-emp-not-inc</td>\n",
       "      <td>309187</td>\n",
       "      <td>Some-college</td>\n",
       "      <td>10</td>\n",
       "      <td>Married-civ-spouse</td>\n",
       "      <td>Craft-repair</td>\n",
       "      <td>Husband</td>\n",
       "      <td>White</td>\n",
       "      <td>Male</td>\n",
       "      <td>5178</td>\n",
       "      <td>1977</td>\n",
       "      <td>60</td>\n",
       "      <td>Holand-Netherlands</td>\n",
       "      <td>&lt;=50K</td>\n",
       "    </tr>\n",
       "  </tbody>\n",
       "</table>\n",
       "</div>"
      ],
      "text/plain": [
       "   age         workclass  fnlwgt     education  education_num  \\\n",
       "0   31           Private  365752     Bachelors             13   \n",
       "1   46           Private  256057  Some-college             11   \n",
       "2   34           Private  128458       Masters             13   \n",
       "3   40       Federal-gov  357937          12th              9   \n",
       "4   28  Self-emp-not-inc  309187  Some-college             10   \n",
       "\n",
       "       marital_status         occupation   relationship   race     sex  \\\n",
       "0  Married-civ-spouse  Handlers-cleaners        Husband  White  Female   \n",
       "1  Married-civ-spouse    Exec-managerial  Not-in-family  White    Male   \n",
       "2       Never-married       Craft-repair  Not-in-family  White    Male   \n",
       "3            Divorced              Sales        Husband  White    Male   \n",
       "4  Married-civ-spouse       Craft-repair        Husband  White    Male   \n",
       "\n",
       "   capital_gain  capital_loss  hours_per_week      native_country income  \n",
       "0             0          1707              55       United-States   >50K  \n",
       "1          8614             0              50       United-States  <=50K  \n",
       "2             0             0              40       United-States  <=50K  \n",
       "3             0             0              45       United-States   >50K  \n",
       "4          5178          1977              60  Holand-Netherlands  <=50K  "
      ]
     },
     "execution_count": 5,
     "metadata": {},
     "output_type": "execute_result"
    }
   ],
   "source": [
    "remote_dataset.as_pandas().head()"
   ]
  },
  {
   "cell_type": "code",
   "execution_count": 6,
   "id": "778a2687",
   "metadata": {},
   "outputs": [],
   "source": [
    "import tensorflow as tf\n",
    "\n",
    "def preprocess(batch):\n",
    "    X = tf.stack([batch[\"age\"], batch[\"education_num\"], batch[\"hours_per_week\"]], axis=1)\n",
    "    X = tf.nn.relu(X)  # Replace encoded NaN by 0\n",
    "    y = batch[\"income\"]\n",
    "    return X, y"
   ]
  },
  {
   "cell_type": "code",
   "execution_count": 7,
   "id": "51094869",
   "metadata": {},
   "outputs": [],
   "source": [
    "tf_ds = remote_dataset.as_tensorflow().batch(16).map(preprocess)"
   ]
  },
  {
   "cell_type": "code",
   "execution_count": 8,
   "id": "f778d1a2",
   "metadata": {},
   "outputs": [],
   "source": [
    "from sarus.tensorflow import Model # Only changing the import line!\n",
    "\n",
    "from tensorflow.keras.layers import Dense\n",
    "from tensorflow.keras.losses import SparseCategoricalCrossentropy\n",
    "from tensorflow.keras.optimizers import Adam\n",
    "\n",
    "class DNN(Model): \n",
    "    def __init__(self):\n",
    "        super().__init__()\n",
    "        self.dense = Dense(units=10)\n",
    "        self.dense2 = Dense(units=2)\n",
    "\n",
    "    def call(self, x, training=False):\n",
    "        return self.dense2(tf.nn.relu(self.dense(x)))\n",
    "\n",
    "model = DNN()\n",
    "\n",
    "model.compile(\n",
    "    optimizer=Adam(learning_rate=1e-3),\n",
    "    loss=SparseCategoricalCrossentropy(from_logits=True),\n",
    "    metrics=[\"sparse_categorical_accuracy\"],\n",
    ")"
   ]
  },
  {
   "cell_type": "code",
   "execution_count": 9,
   "id": "f2caec58",
   "metadata": {},
   "outputs": [
    {
     "name": "stdout",
     "output_type": "stream",
     "text": [
      "Epoch 1/2\n",
      "312/312 [==============================] - 2s 1ms/step - loss: 4.1098 - sparse_categorical_accuracy: 0.5200\n",
      "Epoch 2/2\n",
      "312/312 [==============================] - 0s 1ms/step - loss: 2.5773 - sparse_categorical_accuracy: 0.5222\n",
      "\n"
     ]
    },
    {
     "data": {
      "text/plain": [
       "<tensorflow.python.keras.callbacks.History at 0x7f0668486ca0>"
      ]
     },
     "execution_count": 9,
     "metadata": {},
     "output_type": "execute_result"
    }
   ],
   "source": [
    "model.fit(tf_ds, epochs=2, target_epsilon=1)"
   ]
  }
 ],
 "metadata": {
  "kernelspec": {
   "display_name": "Python 3",
   "language": "python",
   "name": "python3"
  },
  "language_info": {
   "codemirror_mode": {
    "name": "ipython",
    "version": 3
   },
   "file_extension": ".py",
   "mimetype": "text/x-python",
   "name": "python",
   "nbconvert_exporter": "python",
   "pygments_lexer": "ipython3",
   "version": "3.8.8"
  }
 },
 "nbformat": 4,
 "nbformat_minor": 5
}
