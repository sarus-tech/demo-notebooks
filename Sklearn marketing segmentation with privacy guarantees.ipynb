{
  "cells": [
    {
      "cell_type": "markdown",
      "metadata": {
        "id": "OUoTgqma2rBQ"
      },
      "source": [
        "# Sarus Demo - Build and activate marketing segmentation on sensitive households data with privacy guarantees"
      ]
    },
    {
      "cell_type": "markdown",
      "metadata": {
        "id": "WxaVWMmM-a5O"
      },
      "source": [
        "In this example, we use a public retail dataset, available on our github: https://github.com/sarus-tech/demo-notebooks\n",
        "\n",
        "The objective is to build a market segmentation for the digital marketing team to activate. The data is sensitive as it contains confidential information about households. To segment the households data and push it to the activation tool without never seeing it directly, we work with Sarus.\n",
        "\n",
        "Read more in this blog post: https://www.sarus.tech/post/marketing-segmentation-strategy-without-data-access."
      ]
    },
    {
      "cell_type": "markdown",
      "metadata": {
        "id": "y6Renc76-aqL"
      },
      "source": [
        "#0 - Installing Sarus and importing modules"
      ]
    },
    {
      "cell_type": "code",
      "execution_count": null,
      "metadata": {
        "id": "_s4Mqt5k_m9s"
      },
      "outputs": [],
      "source": [
        "%%capture\n",
        "!pip install \"sarus[sklearn]==0.6.5\""
      ]
    },
    {
      "cell_type": "code",
      "execution_count": null,
      "metadata": {
        "id": "EFHm3Xo0_m9w"
      },
      "outputs": [],
      "source": [
        "%%capture\n",
        "import sarus\n",
        "\n",
        "# Just adding \"sarus.\" to the import lines (see supported libraries in the Sarus documentation)\n",
        "import sarus.pandas as pd\n",
        "from sarus.sklearn.cluster import KMeans"
      ]
    },
    {
      "cell_type": "code",
      "execution_count": null,
      "metadata": {
        "id": "0wZxgTKH_m9w",
        "colab": {
          "base_uri": "https://localhost:8080/"
        },
        "outputId": "1f0e7bf9-cb02-4639-dcb8-6698fefb3d8d"
      },
      "outputs": [
        {
          "name": "stdout",
          "output_type": "stream",
          "text": [
            "Password: ··········\n"
          ]
        }
      ],
      "source": [
        "from sarus import Client\n",
        "client = Client(url='https://admin.sarus.tech/gateway', email='analyst@example.com')"
      ]
    },
    {
      "cell_type": "markdown",
      "metadata": {
        "id": "W-qZptPD_m9x"
      },
      "source": [
        "#1. Selecting protected households data and extracting the table of interest"
      ]
    },
    {
      "cell_type": "code",
      "execution_count": null,
      "metadata": {
        "id": "UK7W71pS_m9y"
      },
      "outputs": [],
      "source": [
        "remote_dataset = client.dataset(slugname='retail_data')"
      ]
    },
    {
      "cell_type": "code",
      "execution_count": null,
      "metadata": {
        "id": "ieJQDKKe_m9z",
        "colab": {
          "base_uri": "https://localhost:8080/"
        },
        "outputId": "e9416fc5-1d96-485d-b1c5-dba0b9676172"
      },
      "outputs": [
        {
          "output_type": "execute_result",
          "data": {
            "text/plain": [
              "[['retail_data', 'private', 'demographics_demo'],\n",
              " ['retail_data', 'private', 'transactions_sample'],\n",
              " ['retail_data', 'private', 'products_demo']]"
            ]
          },
          "metadata": {},
          "execution_count": 5
        }
      ],
      "source": [
        "remote_dataset.tables()"
      ]
    },
    {
      "cell_type": "code",
      "execution_count": null,
      "metadata": {
        "id": "LEf9-vmD_m90",
        "colab": {
          "base_uri": "https://localhost:8080/",
          "height": 224
        },
        "outputId": "cd3cb6f2-bf65-4a3b-b6a7-6442b90acc9e"
      },
      "outputs": [
        {
          "output_type": "stream",
          "name": "stdout",
          "text": [
            "Evaluated from synthetic data only\n"
          ]
        },
        {
          "output_type": "display_data",
          "data": {
            "text/plain": [
              "   household_id    age  income home_ownership marital_status household_size  \\\n",
              "0             1    65+  35-49K                     Unmarried              1   \n",
              "1             2  35-44  35-49K      Homeowner        Married              4   \n",
              "2             3  55-64  25-34K                     Unmarried              2   \n",
              "3             4  45-54  50-74K                       Married              2   \n",
              "4             5  25-34  50-74K      Homeowner      Unmarried              1   \n",
              "\n",
              "    household_comp kids_count  \n",
              "0  1 Adult No Kids          0  \n",
              "1    2 Adults Kids          2  \n",
              "2     1 Adult Kids          1  \n",
              "3     1 Adult Kids         3+  \n",
              "4  1 Adult No Kids          0  "
            ],
            "text/html": [
              "\n",
              "  <div id=\"df-cf07b66b-ff97-42a4-a367-62e7537a169e\">\n",
              "    <div class=\"colab-df-container\">\n",
              "      <div>\n",
              "<style scoped>\n",
              "    .dataframe tbody tr th:only-of-type {\n",
              "        vertical-align: middle;\n",
              "    }\n",
              "\n",
              "    .dataframe tbody tr th {\n",
              "        vertical-align: top;\n",
              "    }\n",
              "\n",
              "    .dataframe thead th {\n",
              "        text-align: right;\n",
              "    }\n",
              "</style>\n",
              "<table border=\"1\" class=\"dataframe\">\n",
              "  <thead>\n",
              "    <tr style=\"text-align: right;\">\n",
              "      <th></th>\n",
              "      <th>household_id</th>\n",
              "      <th>age</th>\n",
              "      <th>income</th>\n",
              "      <th>home_ownership</th>\n",
              "      <th>marital_status</th>\n",
              "      <th>household_size</th>\n",
              "      <th>household_comp</th>\n",
              "      <th>kids_count</th>\n",
              "    </tr>\n",
              "  </thead>\n",
              "  <tbody>\n",
              "    <tr>\n",
              "      <th>0</th>\n",
              "      <td>1</td>\n",
              "      <td>65+</td>\n",
              "      <td>35-49K</td>\n",
              "      <td></td>\n",
              "      <td>Unmarried</td>\n",
              "      <td>1</td>\n",
              "      <td>1 Adult No Kids</td>\n",
              "      <td>0</td>\n",
              "    </tr>\n",
              "    <tr>\n",
              "      <th>1</th>\n",
              "      <td>2</td>\n",
              "      <td>35-44</td>\n",
              "      <td>35-49K</td>\n",
              "      <td>Homeowner</td>\n",
              "      <td>Married</td>\n",
              "      <td>4</td>\n",
              "      <td>2 Adults Kids</td>\n",
              "      <td>2</td>\n",
              "    </tr>\n",
              "    <tr>\n",
              "      <th>2</th>\n",
              "      <td>3</td>\n",
              "      <td>55-64</td>\n",
              "      <td>25-34K</td>\n",
              "      <td></td>\n",
              "      <td>Unmarried</td>\n",
              "      <td>2</td>\n",
              "      <td>1 Adult Kids</td>\n",
              "      <td>1</td>\n",
              "    </tr>\n",
              "    <tr>\n",
              "      <th>3</th>\n",
              "      <td>4</td>\n",
              "      <td>45-54</td>\n",
              "      <td>50-74K</td>\n",
              "      <td></td>\n",
              "      <td>Married</td>\n",
              "      <td>2</td>\n",
              "      <td>1 Adult Kids</td>\n",
              "      <td>3+</td>\n",
              "    </tr>\n",
              "    <tr>\n",
              "      <th>4</th>\n",
              "      <td>5</td>\n",
              "      <td>25-34</td>\n",
              "      <td>50-74K</td>\n",
              "      <td>Homeowner</td>\n",
              "      <td>Unmarried</td>\n",
              "      <td>1</td>\n",
              "      <td>1 Adult No Kids</td>\n",
              "      <td>0</td>\n",
              "    </tr>\n",
              "  </tbody>\n",
              "</table>\n",
              "</div>\n",
              "      <button class=\"colab-df-convert\" onclick=\"convertToInteractive('df-cf07b66b-ff97-42a4-a367-62e7537a169e')\"\n",
              "              title=\"Convert this dataframe to an interactive table.\"\n",
              "              style=\"display:none;\">\n",
              "        \n",
              "  <svg xmlns=\"http://www.w3.org/2000/svg\" height=\"24px\"viewBox=\"0 0 24 24\"\n",
              "       width=\"24px\">\n",
              "    <path d=\"M0 0h24v24H0V0z\" fill=\"none\"/>\n",
              "    <path d=\"M18.56 5.44l.94 2.06.94-2.06 2.06-.94-2.06-.94-.94-2.06-.94 2.06-2.06.94zm-11 1L8.5 8.5l.94-2.06 2.06-.94-2.06-.94L8.5 2.5l-.94 2.06-2.06.94zm10 10l.94 2.06.94-2.06 2.06-.94-2.06-.94-.94-2.06-.94 2.06-2.06.94z\"/><path d=\"M17.41 7.96l-1.37-1.37c-.4-.4-.92-.59-1.43-.59-.52 0-1.04.2-1.43.59L10.3 9.45l-7.72 7.72c-.78.78-.78 2.05 0 2.83L4 21.41c.39.39.9.59 1.41.59.51 0 1.02-.2 1.41-.59l7.78-7.78 2.81-2.81c.8-.78.8-2.07 0-2.86zM5.41 20L4 18.59l7.72-7.72 1.47 1.35L5.41 20z\"/>\n",
              "  </svg>\n",
              "      </button>\n",
              "      \n",
              "  <style>\n",
              "    .colab-df-container {\n",
              "      display:flex;\n",
              "      flex-wrap:wrap;\n",
              "      gap: 12px;\n",
              "    }\n",
              "\n",
              "    .colab-df-convert {\n",
              "      background-color: #E8F0FE;\n",
              "      border: none;\n",
              "      border-radius: 50%;\n",
              "      cursor: pointer;\n",
              "      display: none;\n",
              "      fill: #1967D2;\n",
              "      height: 32px;\n",
              "      padding: 0 0 0 0;\n",
              "      width: 32px;\n",
              "    }\n",
              "\n",
              "    .colab-df-convert:hover {\n",
              "      background-color: #E2EBFA;\n",
              "      box-shadow: 0px 1px 2px rgba(60, 64, 67, 0.3), 0px 1px 3px 1px rgba(60, 64, 67, 0.15);\n",
              "      fill: #174EA6;\n",
              "    }\n",
              "\n",
              "    [theme=dark] .colab-df-convert {\n",
              "      background-color: #3B4455;\n",
              "      fill: #D2E3FC;\n",
              "    }\n",
              "\n",
              "    [theme=dark] .colab-df-convert:hover {\n",
              "      background-color: #434B5C;\n",
              "      box-shadow: 0px 1px 3px 1px rgba(0, 0, 0, 0.15);\n",
              "      filter: drop-shadow(0px 1px 2px rgba(0, 0, 0, 0.3));\n",
              "      fill: #FFFFFF;\n",
              "    }\n",
              "  </style>\n",
              "\n",
              "      <script>\n",
              "        const buttonEl =\n",
              "          document.querySelector('#df-cf07b66b-ff97-42a4-a367-62e7537a169e button.colab-df-convert');\n",
              "        buttonEl.style.display =\n",
              "          google.colab.kernel.accessAllowed ? 'block' : 'none';\n",
              "\n",
              "        async function convertToInteractive(key) {\n",
              "          const element = document.querySelector('#df-cf07b66b-ff97-42a4-a367-62e7537a169e');\n",
              "          const dataTable =\n",
              "            await google.colab.kernel.invokeFunction('convertToInteractive',\n",
              "                                                     [key], {});\n",
              "          if (!dataTable) return;\n",
              "\n",
              "          const docLinkHtml = 'Like what you see? Visit the ' +\n",
              "            '<a target=\"_blank\" href=https://colab.research.google.com/notebooks/data_table.ipynb>data table notebook</a>'\n",
              "            + ' to learn more about interactive tables.';\n",
              "          element.innerHTML = '';\n",
              "          dataTable['output_type'] = 'display_data';\n",
              "          await google.colab.output.renderOutput(dataTable, element);\n",
              "          const docLink = document.createElement('div');\n",
              "          docLink.innerHTML = docLinkHtml;\n",
              "          element.appendChild(docLink);\n",
              "        }\n",
              "      </script>\n",
              "    </div>\n",
              "  </div>\n",
              "  "
            ]
          },
          "metadata": {}
        }
      ],
      "source": [
        "### Checking the structure of the table: fallback on the synthetic data as seeing rows of the real data is forbidden\n",
        "remote_dataset.table([\"demographics_demo\"]).as_pandas().head(5)"
      ]
    },
    {
      "cell_type": "code",
      "execution_count": null,
      "metadata": {
        "id": "nL8lxk6b_m90"
      },
      "outputs": [],
      "source": [
        "### Extracting the interesting part of the datasets via a SQL query \n",
        "\n",
        "query = \"\"\" \n",
        "SELECT *\n",
        "FROM retail_data.private.demographics_demo d\n",
        "    JOIN retail_data.private.transactions_sample t\n",
        "        USING (household_id)\n",
        "    JOIN retail_data.private.products_demo p\n",
        "        USING (product_id)\n",
        "\"\"\""
      ]
    },
    {
      "cell_type": "markdown",
      "metadata": {
        "id": "WB7lUp8K_aev"
      },
      "source": [
        "#2. Exploring the data"
      ]
    },
    {
      "cell_type": "code",
      "execution_count": null,
      "metadata": {
        "id": "lajrRWSg_Yoi",
        "colab": {
          "base_uri": "https://localhost:8080/",
          "height": 456
        },
        "outputId": "bc280b82-f4d2-4301-a8e1-a146c077013c"
      },
      "outputs": [
        {
          "output_type": "stream",
          "name": "stdout",
          "text": [
            "Evaluated from synthetic data only\n",
            "(406868, 24)\n",
            "Evaluated from synthetic data only\n"
          ]
        },
        {
          "output_type": "display_data",
          "data": {
            "text/plain": [
              "   product_id  household_id  age  income home_ownership marital_status  \\\n",
              "0           2             1  65+  35-49K                     Unmarried   \n",
              "1           2             1  65+  35-49K                     Unmarried   \n",
              "2           2             1  65+  35-49K                     Unmarried   \n",
              "3           4             1  65+  35-49K                     Unmarried   \n",
              "4           5             1  65+  35-49K                     Unmarried   \n",
              "\n",
              "  household_size   household_comp kids_count  store_id  ...  coupon_disc  \\\n",
              "0              1  1 Adult No Kids          0       317  ...          0.0   \n",
              "1              1  1 Adult No Kids          0     31824  ...          0.0   \n",
              "2              1  1 Adult No Kids          0       453  ...          0.0   \n",
              "3              1  1 Adult No Kids          0       368  ...          0.0   \n",
              "4              1  1 Adult No Kids          0       400  ...          0.0   \n",
              "\n",
              "   coupon_match_disc  week  transaction_timestamp  manufacturer_id  \\\n",
              "0                0.0     5    2017:46:07-07-05 21             5565   \n",
              "1                0.0     4    2017-04-26:29:05 17             5565   \n",
              "2                0.0     3    2017-08 23 17-18:01             5565   \n",
              "3                0.0    17    2017-01:44:16:46:42              978   \n",
              "4                0.0    40    201-11-15:49:06-12               260   \n",
              "\n",
              "   department     brand        product_category                  product_type  \\\n",
              "0        DELI  National               SOFDIOGT                   SPIZ GOOAGAT   \n",
              "1        DELI  National               SOFDIOGT                   SPIZ GOOAGAT   \n",
              "2        DELI  National               SOFDIOGT                   SPIZ GOOAGAT   \n",
              "3     GROCERY  National                    REAS                            SO   \n",
              "4   NUTRITION  National  DREEFREED BRS/REERSND   CAIRYDEED FOTOS ENSETS-C00%/   \n",
              "\n",
              "  package_size  \n",
              "0               \n",
              "1               \n",
              "2               \n",
              "3               \n",
              "4       1.5 TE  \n",
              "\n",
              "[5 rows x 24 columns]"
            ],
            "text/html": [
              "\n",
              "  <div id=\"df-f27da351-45ff-4845-97c6-4e14ced2bba8\">\n",
              "    <div class=\"colab-df-container\">\n",
              "      <div>\n",
              "<style scoped>\n",
              "    .dataframe tbody tr th:only-of-type {\n",
              "        vertical-align: middle;\n",
              "    }\n",
              "\n",
              "    .dataframe tbody tr th {\n",
              "        vertical-align: top;\n",
              "    }\n",
              "\n",
              "    .dataframe thead th {\n",
              "        text-align: right;\n",
              "    }\n",
              "</style>\n",
              "<table border=\"1\" class=\"dataframe\">\n",
              "  <thead>\n",
              "    <tr style=\"text-align: right;\">\n",
              "      <th></th>\n",
              "      <th>product_id</th>\n",
              "      <th>household_id</th>\n",
              "      <th>age</th>\n",
              "      <th>income</th>\n",
              "      <th>home_ownership</th>\n",
              "      <th>marital_status</th>\n",
              "      <th>household_size</th>\n",
              "      <th>household_comp</th>\n",
              "      <th>kids_count</th>\n",
              "      <th>store_id</th>\n",
              "      <th>...</th>\n",
              "      <th>coupon_disc</th>\n",
              "      <th>coupon_match_disc</th>\n",
              "      <th>week</th>\n",
              "      <th>transaction_timestamp</th>\n",
              "      <th>manufacturer_id</th>\n",
              "      <th>department</th>\n",
              "      <th>brand</th>\n",
              "      <th>product_category</th>\n",
              "      <th>product_type</th>\n",
              "      <th>package_size</th>\n",
              "    </tr>\n",
              "  </thead>\n",
              "  <tbody>\n",
              "    <tr>\n",
              "      <th>0</th>\n",
              "      <td>2</td>\n",
              "      <td>1</td>\n",
              "      <td>65+</td>\n",
              "      <td>35-49K</td>\n",
              "      <td></td>\n",
              "      <td>Unmarried</td>\n",
              "      <td>1</td>\n",
              "      <td>1 Adult No Kids</td>\n",
              "      <td>0</td>\n",
              "      <td>317</td>\n",
              "      <td>...</td>\n",
              "      <td>0.0</td>\n",
              "      <td>0.0</td>\n",
              "      <td>5</td>\n",
              "      <td>2017:46:07-07-05 21</td>\n",
              "      <td>5565</td>\n",
              "      <td>DELI</td>\n",
              "      <td>National</td>\n",
              "      <td>SOFDIOGT</td>\n",
              "      <td>SPIZ GOOAGAT</td>\n",
              "      <td></td>\n",
              "    </tr>\n",
              "    <tr>\n",
              "      <th>1</th>\n",
              "      <td>2</td>\n",
              "      <td>1</td>\n",
              "      <td>65+</td>\n",
              "      <td>35-49K</td>\n",
              "      <td></td>\n",
              "      <td>Unmarried</td>\n",
              "      <td>1</td>\n",
              "      <td>1 Adult No Kids</td>\n",
              "      <td>0</td>\n",
              "      <td>31824</td>\n",
              "      <td>...</td>\n",
              "      <td>0.0</td>\n",
              "      <td>0.0</td>\n",
              "      <td>4</td>\n",
              "      <td>2017-04-26:29:05 17</td>\n",
              "      <td>5565</td>\n",
              "      <td>DELI</td>\n",
              "      <td>National</td>\n",
              "      <td>SOFDIOGT</td>\n",
              "      <td>SPIZ GOOAGAT</td>\n",
              "      <td></td>\n",
              "    </tr>\n",
              "    <tr>\n",
              "      <th>2</th>\n",
              "      <td>2</td>\n",
              "      <td>1</td>\n",
              "      <td>65+</td>\n",
              "      <td>35-49K</td>\n",
              "      <td></td>\n",
              "      <td>Unmarried</td>\n",
              "      <td>1</td>\n",
              "      <td>1 Adult No Kids</td>\n",
              "      <td>0</td>\n",
              "      <td>453</td>\n",
              "      <td>...</td>\n",
              "      <td>0.0</td>\n",
              "      <td>0.0</td>\n",
              "      <td>3</td>\n",
              "      <td>2017-08 23 17-18:01</td>\n",
              "      <td>5565</td>\n",
              "      <td>DELI</td>\n",
              "      <td>National</td>\n",
              "      <td>SOFDIOGT</td>\n",
              "      <td>SPIZ GOOAGAT</td>\n",
              "      <td></td>\n",
              "    </tr>\n",
              "    <tr>\n",
              "      <th>3</th>\n",
              "      <td>4</td>\n",
              "      <td>1</td>\n",
              "      <td>65+</td>\n",
              "      <td>35-49K</td>\n",
              "      <td></td>\n",
              "      <td>Unmarried</td>\n",
              "      <td>1</td>\n",
              "      <td>1 Adult No Kids</td>\n",
              "      <td>0</td>\n",
              "      <td>368</td>\n",
              "      <td>...</td>\n",
              "      <td>0.0</td>\n",
              "      <td>0.0</td>\n",
              "      <td>17</td>\n",
              "      <td>2017-01:44:16:46:42</td>\n",
              "      <td>978</td>\n",
              "      <td>GROCERY</td>\n",
              "      <td>National</td>\n",
              "      <td>REAS</td>\n",
              "      <td>SO</td>\n",
              "      <td></td>\n",
              "    </tr>\n",
              "    <tr>\n",
              "      <th>4</th>\n",
              "      <td>5</td>\n",
              "      <td>1</td>\n",
              "      <td>65+</td>\n",
              "      <td>35-49K</td>\n",
              "      <td></td>\n",
              "      <td>Unmarried</td>\n",
              "      <td>1</td>\n",
              "      <td>1 Adult No Kids</td>\n",
              "      <td>0</td>\n",
              "      <td>400</td>\n",
              "      <td>...</td>\n",
              "      <td>0.0</td>\n",
              "      <td>0.0</td>\n",
              "      <td>40</td>\n",
              "      <td>201-11-15:49:06-12</td>\n",
              "      <td>260</td>\n",
              "      <td>NUTRITION</td>\n",
              "      <td>National</td>\n",
              "      <td>DREEFREED BRS/REERSND</td>\n",
              "      <td>CAIRYDEED FOTOS ENSETS-C00%/</td>\n",
              "      <td>1.5 TE</td>\n",
              "    </tr>\n",
              "  </tbody>\n",
              "</table>\n",
              "<p>5 rows × 24 columns</p>\n",
              "</div>\n",
              "      <button class=\"colab-df-convert\" onclick=\"convertToInteractive('df-f27da351-45ff-4845-97c6-4e14ced2bba8')\"\n",
              "              title=\"Convert this dataframe to an interactive table.\"\n",
              "              style=\"display:none;\">\n",
              "        \n",
              "  <svg xmlns=\"http://www.w3.org/2000/svg\" height=\"24px\"viewBox=\"0 0 24 24\"\n",
              "       width=\"24px\">\n",
              "    <path d=\"M0 0h24v24H0V0z\" fill=\"none\"/>\n",
              "    <path d=\"M18.56 5.44l.94 2.06.94-2.06 2.06-.94-2.06-.94-.94-2.06-.94 2.06-2.06.94zm-11 1L8.5 8.5l.94-2.06 2.06-.94-2.06-.94L8.5 2.5l-.94 2.06-2.06.94zm10 10l.94 2.06.94-2.06 2.06-.94-2.06-.94-.94-2.06-.94 2.06-2.06.94z\"/><path d=\"M17.41 7.96l-1.37-1.37c-.4-.4-.92-.59-1.43-.59-.52 0-1.04.2-1.43.59L10.3 9.45l-7.72 7.72c-.78.78-.78 2.05 0 2.83L4 21.41c.39.39.9.59 1.41.59.51 0 1.02-.2 1.41-.59l7.78-7.78 2.81-2.81c.8-.78.8-2.07 0-2.86zM5.41 20L4 18.59l7.72-7.72 1.47 1.35L5.41 20z\"/>\n",
              "  </svg>\n",
              "      </button>\n",
              "      \n",
              "  <style>\n",
              "    .colab-df-container {\n",
              "      display:flex;\n",
              "      flex-wrap:wrap;\n",
              "      gap: 12px;\n",
              "    }\n",
              "\n",
              "    .colab-df-convert {\n",
              "      background-color: #E8F0FE;\n",
              "      border: none;\n",
              "      border-radius: 50%;\n",
              "      cursor: pointer;\n",
              "      display: none;\n",
              "      fill: #1967D2;\n",
              "      height: 32px;\n",
              "      padding: 0 0 0 0;\n",
              "      width: 32px;\n",
              "    }\n",
              "\n",
              "    .colab-df-convert:hover {\n",
              "      background-color: #E2EBFA;\n",
              "      box-shadow: 0px 1px 2px rgba(60, 64, 67, 0.3), 0px 1px 3px 1px rgba(60, 64, 67, 0.15);\n",
              "      fill: #174EA6;\n",
              "    }\n",
              "\n",
              "    [theme=dark] .colab-df-convert {\n",
              "      background-color: #3B4455;\n",
              "      fill: #D2E3FC;\n",
              "    }\n",
              "\n",
              "    [theme=dark] .colab-df-convert:hover {\n",
              "      background-color: #434B5C;\n",
              "      box-shadow: 0px 1px 3px 1px rgba(0, 0, 0, 0.15);\n",
              "      filter: drop-shadow(0px 1px 2px rgba(0, 0, 0, 0.3));\n",
              "      fill: #FFFFFF;\n",
              "    }\n",
              "  </style>\n",
              "\n",
              "      <script>\n",
              "        const buttonEl =\n",
              "          document.querySelector('#df-f27da351-45ff-4845-97c6-4e14ced2bba8 button.colab-df-convert');\n",
              "        buttonEl.style.display =\n",
              "          google.colab.kernel.accessAllowed ? 'block' : 'none';\n",
              "\n",
              "        async function convertToInteractive(key) {\n",
              "          const element = document.querySelector('#df-f27da351-45ff-4845-97c6-4e14ced2bba8');\n",
              "          const dataTable =\n",
              "            await google.colab.kernel.invokeFunction('convertToInteractive',\n",
              "                                                     [key], {});\n",
              "          if (!dataTable) return;\n",
              "\n",
              "          const docLinkHtml = 'Like what you see? Visit the ' +\n",
              "            '<a target=\"_blank\" href=https://colab.research.google.com/notebooks/data_table.ipynb>data table notebook</a>'\n",
              "            + ' to learn more about interactive tables.';\n",
              "          element.innerHTML = '';\n",
              "          dataTable['output_type'] = 'display_data';\n",
              "          await google.colab.output.renderOutput(dataTable, element);\n",
              "          const docLink = document.createElement('div');\n",
              "          docLink.innerHTML = docLinkHtml;\n",
              "          element.appendChild(docLink);\n",
              "        }\n",
              "      </script>\n",
              "    </div>\n",
              "  </div>\n",
              "  "
            ]
          },
          "metadata": {}
        }
      ],
      "source": [
        "df = remote_dataset.sql(query).as_pandas()\n",
        "print(df.shape)\n",
        "df.head(5)"
      ]
    },
    {
      "cell_type": "code",
      "execution_count": null,
      "metadata": {
        "id": "Pl0ZXmQCxIPL",
        "colab": {
          "base_uri": "https://localhost:8080/",
          "height": 52
        },
        "outputId": "cb501a9f-526a-451b-e668-80f9fd0eac03"
      },
      "outputs": [
        {
          "output_type": "stream",
          "name": "stdout",
          "text": [
            "Evaluated from synthetic data only\n"
          ]
        },
        {
          "output_type": "display_data",
          "data": {
            "text/plain": [
              "800"
            ]
          },
          "metadata": {}
        }
      ],
      "source": [
        "# Checking the number of households \n",
        "df.household_id.nunique()"
      ]
    },
    {
      "cell_type": "code",
      "execution_count": null,
      "metadata": {
        "id": "-f8-ALL9Ca7r",
        "colab": {
          "base_uri": "https://localhost:8080/"
        },
        "outputId": "cee30143-1a91-4c2e-8317-43d7cee2866d"
      },
      "outputs": [
        {
          "output_type": "stream",
          "name": "stdout",
          "text": [
            "Evaluated from synthetic data only\n"
          ]
        },
        {
          "output_type": "execute_result",
          "data": {
            "text/plain": [
              "product_id               0\n",
              "household_id             0\n",
              "age                      0\n",
              "income                   0\n",
              "home_ownership           0\n",
              "marital_status           0\n",
              "household_size           0\n",
              "household_comp           0\n",
              "kids_count               0\n",
              "store_id                 0\n",
              "basket_id                0\n",
              "quantity                 0\n",
              "sales_value              0\n",
              "retail_disc              0\n",
              "coupon_disc              0\n",
              "coupon_match_disc        0\n",
              "week                     0\n",
              "transaction_timestamp    0\n",
              "manufacturer_id          0\n",
              "department               0\n",
              "brand                    0\n",
              "product_category         0\n",
              "product_type             0\n",
              "package_size             0\n",
              "dtype: int64"
            ]
          },
          "metadata": {},
          "execution_count": 10
        }
      ],
      "source": [
        "# Checking the missing values\n",
        "df.isna().sum()"
      ]
    },
    {
      "cell_type": "markdown",
      "metadata": {
        "id": "SJtIGP_m_eC2"
      },
      "source": [
        "#3. Preprocessing the data and training a clustering ML model"
      ]
    },
    {
      "cell_type": "code",
      "execution_count": null,
      "metadata": {
        "id": "PWnZBaZ2cp8p"
      },
      "outputs": [],
      "source": [
        "df_dem = df[['household_id', 'home_ownership', 'age', 'income', 'marital_status', 'household_size', 'household_comp', 'kids_count']]\n",
        "df_dem = df_dem.drop_duplicates()"
      ]
    },
    {
      "cell_type": "code",
      "execution_count": null,
      "metadata": {
        "id": "3dEeOjOADFpE"
      },
      "outputs": [],
      "source": [
        "### Encoding categorial variables\n",
        "\n",
        "cat = pd.get_dummies(df_dem.select_dtypes([\"object\"]), drop_first=True)\n",
        "cat = pd.concat([df_dem['household_id'], cat], axis=1)"
      ]
    },
    {
      "cell_type": "code",
      "execution_count": null,
      "metadata": {
        "id": "WcClNm6PEfdO"
      },
      "outputs": [],
      "source": [
        "### Adding the cosmetics consumption column\n",
        "cosmetics_consumption = df.loc[df['department'] == 'COSMETICS'].groupby('household_id').\\\n",
        "  agg({'income' : 'count'}).rename(columns = {'income' : 'count_cosmetics_consumption'})\n",
        "df_full = pd.merge(cat, cosmetics_consumption, how='left', on=['household_id']).fillna(0)"
      ]
    },
    {
      "cell_type": "code",
      "execution_count": null,
      "metadata": {
        "id": "Pr8ja5dydjS2"
      },
      "outputs": [],
      "source": [
        "### Fitting a sklearn clustering model\n",
        "model = KMeans(n_clusters=2)\n",
        "fitted_model = model.fit(df_full)"
      ]
    },
    {
      "cell_type": "code",
      "execution_count": null,
      "metadata": {
        "id": "CkQr4NaJC-gX",
        "colab": {
          "base_uri": "https://localhost:8080/",
          "height": 92
        },
        "outputId": "8623487b-68db-40ab-d2c2-e549d3fac3ba"
      },
      "outputs": [
        {
          "output_type": "stream",
          "name": "stdout",
          "text": [
            "Whitelisted\n"
          ]
        },
        {
          "output_type": "display_data",
          "data": {
            "text/plain": [
              "KMeans(n_clusters=2, n_init=10)"
            ],
            "text/html": [
              "<style>#sk-container-id-1 {color: black;background-color: white;}#sk-container-id-1 pre{padding: 0;}#sk-container-id-1 div.sk-toggleable {background-color: white;}#sk-container-id-1 label.sk-toggleable__label {cursor: pointer;display: block;width: 100%;margin-bottom: 0;padding: 0.3em;box-sizing: border-box;text-align: center;}#sk-container-id-1 label.sk-toggleable__label-arrow:before {content: \"▸\";float: left;margin-right: 0.25em;color: #696969;}#sk-container-id-1 label.sk-toggleable__label-arrow:hover:before {color: black;}#sk-container-id-1 div.sk-estimator:hover label.sk-toggleable__label-arrow:before {color: black;}#sk-container-id-1 div.sk-toggleable__content {max-height: 0;max-width: 0;overflow: hidden;text-align: left;background-color: #f0f8ff;}#sk-container-id-1 div.sk-toggleable__content pre {margin: 0.2em;color: black;border-radius: 0.25em;background-color: #f0f8ff;}#sk-container-id-1 input.sk-toggleable__control:checked~div.sk-toggleable__content {max-height: 200px;max-width: 100%;overflow: auto;}#sk-container-id-1 input.sk-toggleable__control:checked~label.sk-toggleable__label-arrow:before {content: \"▾\";}#sk-container-id-1 div.sk-estimator input.sk-toggleable__control:checked~label.sk-toggleable__label {background-color: #d4ebff;}#sk-container-id-1 div.sk-label input.sk-toggleable__control:checked~label.sk-toggleable__label {background-color: #d4ebff;}#sk-container-id-1 input.sk-hidden--visually {border: 0;clip: rect(1px 1px 1px 1px);clip: rect(1px, 1px, 1px, 1px);height: 1px;margin: -1px;overflow: hidden;padding: 0;position: absolute;width: 1px;}#sk-container-id-1 div.sk-estimator {font-family: monospace;background-color: #f0f8ff;border: 1px dotted black;border-radius: 0.25em;box-sizing: border-box;margin-bottom: 0.5em;}#sk-container-id-1 div.sk-estimator:hover {background-color: #d4ebff;}#sk-container-id-1 div.sk-parallel-item::after {content: \"\";width: 100%;border-bottom: 1px solid gray;flex-grow: 1;}#sk-container-id-1 div.sk-label:hover label.sk-toggleable__label {background-color: #d4ebff;}#sk-container-id-1 div.sk-serial::before {content: \"\";position: absolute;border-left: 1px solid gray;box-sizing: border-box;top: 0;bottom: 0;left: 50%;z-index: 0;}#sk-container-id-1 div.sk-serial {display: flex;flex-direction: column;align-items: center;background-color: white;padding-right: 0.2em;padding-left: 0.2em;position: relative;}#sk-container-id-1 div.sk-item {position: relative;z-index: 1;}#sk-container-id-1 div.sk-parallel {display: flex;align-items: stretch;justify-content: center;background-color: white;position: relative;}#sk-container-id-1 div.sk-item::before, #sk-container-id-1 div.sk-parallel-item::before {content: \"\";position: absolute;border-left: 1px solid gray;box-sizing: border-box;top: 0;bottom: 0;left: 50%;z-index: -1;}#sk-container-id-1 div.sk-parallel-item {display: flex;flex-direction: column;z-index: 1;position: relative;background-color: white;}#sk-container-id-1 div.sk-parallel-item:first-child::after {align-self: flex-end;width: 50%;}#sk-container-id-1 div.sk-parallel-item:last-child::after {align-self: flex-start;width: 50%;}#sk-container-id-1 div.sk-parallel-item:only-child::after {width: 0;}#sk-container-id-1 div.sk-dashed-wrapped {border: 1px dashed gray;margin: 0 0.4em 0.5em 0.4em;box-sizing: border-box;padding-bottom: 0.4em;background-color: white;}#sk-container-id-1 div.sk-label label {font-family: monospace;font-weight: bold;display: inline-block;line-height: 1.2em;}#sk-container-id-1 div.sk-label-container {text-align: center;}#sk-container-id-1 div.sk-container {/* jupyter's `normalize.less` sets `[hidden] { display: none; }` but bootstrap.min.css set `[hidden] { display: none !important; }` so we also need the `!important` here to be able to override the default hidden behavior on the sphinx rendered scikit-learn.org. See: https://github.com/scikit-learn/scikit-learn/issues/21755 */display: inline-block !important;position: relative;}#sk-container-id-1 div.sk-text-repr-fallback {display: none;}</style><div id=\"sk-container-id-1\" class=\"sk-top-container\"><div class=\"sk-text-repr-fallback\"><pre>KMeans(n_clusters=2, n_init=10)</pre><b>In a Jupyter environment, please rerun this cell to show the HTML representation or trust the notebook. <br />On GitHub, the HTML representation is unable to render, please try loading this page with nbviewer.org.</b></div><div class=\"sk-container\" hidden><div class=\"sk-item\"><div class=\"sk-estimator sk-toggleable\"><input class=\"sk-toggleable__control sk-hidden--visually\" id=\"sk-estimator-id-1\" type=\"checkbox\" checked><label for=\"sk-estimator-id-1\" class=\"sk-toggleable__label sk-toggleable__label-arrow\">KMeans</label><div class=\"sk-toggleable__content\"><pre>KMeans(n_clusters=2, n_init=10)</pre></div></div></div></div></div>"
            ]
          },
          "metadata": {}
        }
      ],
      "source": [
        "### Checking the model; it is \"Whitelisted\": it means the Data owner has exceptionally granted me the right to fit the model on the real remote data directly with Differential Privacy\n",
        "fitted_model"
      ]
    },
    {
      "cell_type": "markdown",
      "metadata": {
        "id": "3j751Smc_k0e"
      },
      "source": [
        "#4. Push the resulting ids to an endpoint for activation in a marketing tool\n",
        "\n"
      ]
    },
    {
      "cell_type": "code",
      "execution_count": null,
      "metadata": {
        "id": "ApD1EHSbDMYB"
      },
      "outputs": [],
      "source": [
        "labels = fitted_model.predict(df_full)\n",
        "new_df = pd.concat([df_dem.reset_index()['household_id'], pd.DataFrame(labels, columns=['group'])], axis=1)"
      ]
    },
    {
      "cell_type": "code",
      "execution_count": null,
      "metadata": {
        "id": "ywZWUK2TGxiC",
        "colab": {
          "base_uri": "https://localhost:8080/",
          "height": 224
        },
        "outputId": "5667be98-1d8c-4713-b381-fe1dd34ed585"
      },
      "outputs": [
        {
          "output_type": "stream",
          "name": "stdout",
          "text": [
            "Evaluated from synthetic data only\n"
          ]
        },
        {
          "output_type": "display_data",
          "data": {
            "text/plain": [
              "   household_id  group\n",
              "0             1      1\n",
              "1             2      1\n",
              "2             3      1\n",
              "3             4      1\n",
              "4             5      1"
            ],
            "text/html": [
              "\n",
              "  <div id=\"df-7cbf4597-0f8e-4460-ad4d-9b775b323a6b\">\n",
              "    <div class=\"colab-df-container\">\n",
              "      <div>\n",
              "<style scoped>\n",
              "    .dataframe tbody tr th:only-of-type {\n",
              "        vertical-align: middle;\n",
              "    }\n",
              "\n",
              "    .dataframe tbody tr th {\n",
              "        vertical-align: top;\n",
              "    }\n",
              "\n",
              "    .dataframe thead th {\n",
              "        text-align: right;\n",
              "    }\n",
              "</style>\n",
              "<table border=\"1\" class=\"dataframe\">\n",
              "  <thead>\n",
              "    <tr style=\"text-align: right;\">\n",
              "      <th></th>\n",
              "      <th>household_id</th>\n",
              "      <th>group</th>\n",
              "    </tr>\n",
              "  </thead>\n",
              "  <tbody>\n",
              "    <tr>\n",
              "      <th>0</th>\n",
              "      <td>1</td>\n",
              "      <td>1</td>\n",
              "    </tr>\n",
              "    <tr>\n",
              "      <th>1</th>\n",
              "      <td>2</td>\n",
              "      <td>1</td>\n",
              "    </tr>\n",
              "    <tr>\n",
              "      <th>2</th>\n",
              "      <td>3</td>\n",
              "      <td>1</td>\n",
              "    </tr>\n",
              "    <tr>\n",
              "      <th>3</th>\n",
              "      <td>4</td>\n",
              "      <td>1</td>\n",
              "    </tr>\n",
              "    <tr>\n",
              "      <th>4</th>\n",
              "      <td>5</td>\n",
              "      <td>1</td>\n",
              "    </tr>\n",
              "  </tbody>\n",
              "</table>\n",
              "</div>\n",
              "      <button class=\"colab-df-convert\" onclick=\"convertToInteractive('df-7cbf4597-0f8e-4460-ad4d-9b775b323a6b')\"\n",
              "              title=\"Convert this dataframe to an interactive table.\"\n",
              "              style=\"display:none;\">\n",
              "        \n",
              "  <svg xmlns=\"http://www.w3.org/2000/svg\" height=\"24px\"viewBox=\"0 0 24 24\"\n",
              "       width=\"24px\">\n",
              "    <path d=\"M0 0h24v24H0V0z\" fill=\"none\"/>\n",
              "    <path d=\"M18.56 5.44l.94 2.06.94-2.06 2.06-.94-2.06-.94-.94-2.06-.94 2.06-2.06.94zm-11 1L8.5 8.5l.94-2.06 2.06-.94-2.06-.94L8.5 2.5l-.94 2.06-2.06.94zm10 10l.94 2.06.94-2.06 2.06-.94-2.06-.94-.94-2.06-.94 2.06-2.06.94z\"/><path d=\"M17.41 7.96l-1.37-1.37c-.4-.4-.92-.59-1.43-.59-.52 0-1.04.2-1.43.59L10.3 9.45l-7.72 7.72c-.78.78-.78 2.05 0 2.83L4 21.41c.39.39.9.59 1.41.59.51 0 1.02-.2 1.41-.59l7.78-7.78 2.81-2.81c.8-.78.8-2.07 0-2.86zM5.41 20L4 18.59l7.72-7.72 1.47 1.35L5.41 20z\"/>\n",
              "  </svg>\n",
              "      </button>\n",
              "      \n",
              "  <style>\n",
              "    .colab-df-container {\n",
              "      display:flex;\n",
              "      flex-wrap:wrap;\n",
              "      gap: 12px;\n",
              "    }\n",
              "\n",
              "    .colab-df-convert {\n",
              "      background-color: #E8F0FE;\n",
              "      border: none;\n",
              "      border-radius: 50%;\n",
              "      cursor: pointer;\n",
              "      display: none;\n",
              "      fill: #1967D2;\n",
              "      height: 32px;\n",
              "      padding: 0 0 0 0;\n",
              "      width: 32px;\n",
              "    }\n",
              "\n",
              "    .colab-df-convert:hover {\n",
              "      background-color: #E2EBFA;\n",
              "      box-shadow: 0px 1px 2px rgba(60, 64, 67, 0.3), 0px 1px 3px 1px rgba(60, 64, 67, 0.15);\n",
              "      fill: #174EA6;\n",
              "    }\n",
              "\n",
              "    [theme=dark] .colab-df-convert {\n",
              "      background-color: #3B4455;\n",
              "      fill: #D2E3FC;\n",
              "    }\n",
              "\n",
              "    [theme=dark] .colab-df-convert:hover {\n",
              "      background-color: #434B5C;\n",
              "      box-shadow: 0px 1px 3px 1px rgba(0, 0, 0, 0.15);\n",
              "      filter: drop-shadow(0px 1px 2px rgba(0, 0, 0, 0.3));\n",
              "      fill: #FFFFFF;\n",
              "    }\n",
              "  </style>\n",
              "\n",
              "      <script>\n",
              "        const buttonEl =\n",
              "          document.querySelector('#df-7cbf4597-0f8e-4460-ad4d-9b775b323a6b button.colab-df-convert');\n",
              "        buttonEl.style.display =\n",
              "          google.colab.kernel.accessAllowed ? 'block' : 'none';\n",
              "\n",
              "        async function convertToInteractive(key) {\n",
              "          const element = document.querySelector('#df-7cbf4597-0f8e-4460-ad4d-9b775b323a6b');\n",
              "          const dataTable =\n",
              "            await google.colab.kernel.invokeFunction('convertToInteractive',\n",
              "                                                     [key], {});\n",
              "          if (!dataTable) return;\n",
              "\n",
              "          const docLinkHtml = 'Like what you see? Visit the ' +\n",
              "            '<a target=\"_blank\" href=https://colab.research.google.com/notebooks/data_table.ipynb>data table notebook</a>'\n",
              "            + ' to learn more about interactive tables.';\n",
              "          element.innerHTML = '';\n",
              "          dataTable['output_type'] = 'display_data';\n",
              "          await google.colab.output.renderOutput(dataTable, element);\n",
              "          const docLink = document.createElement('div');\n",
              "          docLink.innerHTML = docLinkHtml;\n",
              "          element.appendChild(docLink);\n",
              "        }\n",
              "      </script>\n",
              "    </div>\n",
              "  </div>\n",
              "  "
            ]
          },
          "metadata": {}
        }
      ],
      "source": [
        "new_df.head()"
      ]
    },
    {
      "cell_type": "code",
      "execution_count": null,
      "metadata": {
        "id": "M4_cBf3UALr5"
      },
      "outputs": [],
      "source": [
        "### Creating the two lists of ids\n",
        "\n",
        "list_ids_1 = new_df.loc[new_df.group == 0]['household_id']\n",
        "list_ids_2 = new_df.loc[new_df.group == 1 ]['household_id']"
      ]
    },
    {
      "cell_type": "code",
      "execution_count": null,
      "metadata": {
        "id": "hbMe-0nKFDQ2"
      },
      "outputs": [],
      "source": [
        "list_ids_1.shape"
      ]
    },
    {
      "cell_type": "code",
      "execution_count": null,
      "metadata": {
        "id": "1TWML32V_m92"
      },
      "outputs": [],
      "source": [
        "### Pushing the first segmentat of ids to the endpoint for activation in the marketing campaign solution\n",
        "\n",
        "sarus.push(list_ids_1, endpoint=\"https://my_marketing_solution/activate\", name='cosmetics_audience_1') # NB: BETA VERSION. NB2: the server is implemented outside of Sarus"
      ]
    },
    {
      "cell_type": "code",
      "execution_count": null,
      "metadata": {
        "id": "kk9Sjq9dBjeV"
      },
      "outputs": [],
      "source": [
        "### Pushing the first segmentat of ids to the endpoint for activation in the marketing campaign solution\n",
        "\n",
        "sarus.push(list_ids_2, endpoint=\"https://my_marketing_solution/activate\", name='cosmetics_audience_2') # NB: BETA VERSION. NB2: the server is implemented outside of Sarus"
      ]
    },
    {
      "cell_type": "markdown",
      "metadata": {
        "id": "1Oye8-X9AsQk"
      },
      "source": [
        "#5. Conclusion\n",
        "\n",
        "We could build a market segmentation using usual python libraries, without ever seeing the real households data, and push the insights to a third-party tool for the digital marketing team to use them! The data were fully protected and we were able to unlock all its significant value.\n",
        "\n",
        "Want to schedule a test and see Sarus in action on your data? [Get in touch!](https://www.sarus.tech/contact) "
      ]
    }
  ],
  "metadata": {
    "colab": {
      "provenance": []
    },
    "kernelspec": {
      "display_name": "Python 3",
      "language": "python",
      "name": "python3"
    },
    "language_info": {
      "codemirror_mode": {
        "name": "ipython",
        "version": 3
      },
      "file_extension": ".py",
      "mimetype": "text/x-python",
      "name": "python",
      "nbconvert_exporter": "python",
      "pygments_lexer": "ipython3",
      "version": "3.10.9"
    }
  },
  "nbformat": 4,
  "nbformat_minor": 0
}