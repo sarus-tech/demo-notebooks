{
 "cells": [
  {
   "cell_type": "markdown",
   "metadata": {
    "id": "KTxEPsqPDU21"
   },
   "source": [
    "# ![Screenshot 2021-05-07 at 16.07.47.png](data:image/png;base64,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) \n",
    "# Sentiment analysis on private IMDB reviews with Sarus\n",
    "\n"
   ]
  },
  {
   "cell_type": "markdown",
   "metadata": {
    "id": "M4cWZpmNDp4T"
   },
   "source": [
    "### In this tutorial for **Data Practitioners**, you will see how to:\n",
    "\n",
    "1. Connect to Sarus gateway and see available datasets\n",
    "2. Analyze the private data as a pandas dataframe\n",
    "3. Submit SQL queries \n",
    "4. Preprocess the remote private data\n",
    "4. Train a TF text classification model onto the remote real data\n"
   ]
  },
  {
   "cell_type": "markdown",
   "metadata": {
    "id": "eCydbvLBNfMe"
   },
   "source": [
    "# Data source"
   ]
  },
  {
   "cell_type": "markdown",
   "metadata": {
    "id": "WqQz5NuGQCt0"
   },
   "source": [
    "**Extract of 5k rows of IMDB movie reviews** to build a sentiment analysis model:  \n",
    "https://www.kaggle.com/lakshmi25npathi/imdb_extract-dataset-of-50k-movie-reviews"
   ]
  },
  {
   "cell_type": "markdown",
   "metadata": {
    "id": "T78U3DqBEO9-"
   },
   "source": [
    "# 1. Connect to Sarus gateway & explore the list of available datasets"
   ]
  },
  {
   "cell_type": "code",
   "execution_count": 1,
   "metadata": {
    "colab": {
     "base_uri": "https://localhost:8080/"
    },
    "id": "_PFJyavbEPQ9",
    "outputId": "cf8f1fce-e65c-4f7d-ff09-6d02d7b78bb8"
   },
   "outputs": [],
   "source": [
    "%%capture\n",
    "!pip install sarus"
   ]
  },
  {
   "cell_type": "code",
   "execution_count": 2,
   "metadata": {
    "id": "Fckfawsa73BC"
   },
   "outputs": [],
   "source": [
    "import pandas as pd\n",
    "import tensorflow as tf\n",
    "\n",
    "from sarus import Client\n",
    "from sarus.tensorflow import Model\n",
    "\n",
    "from tensorflow.keras.layers import Embedding, GlobalAveragePooling1D, Dense\n",
    "from tensorflow.keras.losses import BinaryCrossentropy\n",
    "from tensorflow.keras.optimizers import Adam"
   ]
  },
  {
   "cell_type": "code",
   "execution_count": 3,
   "metadata": {
    "colab": {
     "base_uri": "https://localhost:8080/"
    },
    "id": "dkb8v2KdFH09",
    "outputId": "a3c882af-e3e6-4be1-ad6e-29b9f8073f87"
   },
   "outputs": [],
   "source": [
    "client = Client(url='https://demo.sarus.tech:5000', email='demo.user@sarus.tech', password='Demo1')\n",
    "# Here, you can use our demo credentials or your own ones!"
   ]
  },
  {
   "cell_type": "code",
   "execution_count": 4,
   "metadata": {
    "colab": {
     "base_uri": "https://localhost:8080/"
    },
    "id": "CJymEM33FZM5",
    "outputId": "25ace7a6-2657-4f1a-8bdd-865ec9c38e45"
   },
   "outputs": [
    {
     "data": {
      "text/plain": [
       "[<Sarus Dataset slugname=imdb_reviews id=15>,\n",
       " <Sarus Dataset slugname=patient_data id=14>,\n",
       " <Sarus Dataset slugname=private_census id=13>]"
      ]
     },
     "execution_count": 4,
     "metadata": {},
     "output_type": "execute_result"
    }
   ],
   "source": [
    "client.list_datasets()"
   ]
  },
  {
   "cell_type": "code",
   "execution_count": 5,
   "metadata": {
    "id": "b7oljrr-aUEd"
   },
   "outputs": [],
   "source": [
    "remote_dataset = client.dataset(slugname='imdb_reviews')"
   ]
  },
  {
   "cell_type": "markdown",
   "metadata": {
    "id": "TPGDqvSYN233"
   },
   "source": [
    "# 2. Explore private dataset "
   ]
  },
  {
   "cell_type": "code",
   "execution_count": 6,
   "metadata": {
    "colab": {
     "base_uri": "https://localhost:8080/",
     "height": 204
    },
    "id": "1ypdE5QCEGPR",
    "outputId": "7f63f176-b5cd-4188-c2b0-5fe02e355973"
   },
   "outputs": [
    {
     "data": {
      "text/html": [
       "<div>\n",
       "<style scoped>\n",
       "    .dataframe tbody tr th:only-of-type {\n",
       "        vertical-align: middle;\n",
       "    }\n",
       "\n",
       "    .dataframe tbody tr th {\n",
       "        vertical-align: top;\n",
       "    }\n",
       "\n",
       "    .dataframe thead th {\n",
       "        text-align: right;\n",
       "    }\n",
       "</style>\n",
       "<table border=\"1\" class=\"dataframe\">\n",
       "  <thead>\n",
       "    <tr style=\"text-align: right;\">\n",
       "      <th></th>\n",
       "      <th>review</th>\n",
       "      <th>sentiment</th>\n",
       "    </tr>\n",
       "  </thead>\n",
       "  <tbody>\n",
       "    <tr>\n",
       "      <th>0</th>\n",
       "      <td>One of the other reviewers has mentioned that ...</td>\n",
       "      <td>positive</td>\n",
       "    </tr>\n",
       "    <tr>\n",
       "      <th>1</th>\n",
       "      <td>A wonderful little production. &lt;br /&gt;&lt;br /&gt;The...</td>\n",
       "      <td>positive</td>\n",
       "    </tr>\n",
       "    <tr>\n",
       "      <th>2</th>\n",
       "      <td>I thought this was a wonderful way to spend ti...</td>\n",
       "      <td>positive</td>\n",
       "    </tr>\n",
       "    <tr>\n",
       "      <th>3</th>\n",
       "      <td>Basically there's a family where a little boy ...</td>\n",
       "      <td>negative</td>\n",
       "    </tr>\n",
       "    <tr>\n",
       "      <th>4</th>\n",
       "      <td>Petter Mattei's \"Love in the Time of Money\" is...</td>\n",
       "      <td>positive</td>\n",
       "    </tr>\n",
       "  </tbody>\n",
       "</table>\n",
       "</div>"
      ],
      "text/plain": [
       "                                              review sentiment\n",
       "0  One of the other reviewers has mentioned that ...  positive\n",
       "1  A wonderful little production. <br /><br />The...  positive\n",
       "2  I thought this was a wonderful way to spend ti...  positive\n",
       "3  Basically there's a family where a little boy ...  negative\n",
       "4  Petter Mattei's \"Love in the Time of Money\" is...  positive"
      ]
     },
     "execution_count": 6,
     "metadata": {},
     "output_type": "execute_result"
    }
   ],
   "source": [
    "dataframe = remote_dataset.as_pandas()\n",
    "dataframe.head(5) # Falls back to synthetic data"
   ]
  },
  {
   "cell_type": "code",
   "execution_count": 7,
   "metadata": {
    "colab": {
     "base_uri": "https://localhost:8080/",
     "height": 103
    },
    "id": "huat8sVrju8i",
    "outputId": "b6aa1142-6b9b-4b2d-a190-49c3e3208faa"
   },
   "outputs": [
    {
     "data": {
      "text/plain": [
       "\"The cast played Shakespeare.<br /><br />Shakespeare lost.<br /><br />I appreciate that this is trying to bring Shakespeare to the masses, but why ruin something so good.<br /><br />Is it because 'The Scottish Play' is my favorite Shakespeare? I do not know. What I do know is that a certain Rev Bowdler (hence bowdlerization) tried to do something similar in the Victorian era.<br /><br />In other words, you cannot improve perfection.<br /><br />I have no more to write but as I have to write at least ten lines of text (and English composition was never my forte I will just have to keep going and say that this movie, as the saying goes, just does not cut it.\""
      ]
     },
     "execution_count": 7,
     "metadata": {},
     "output_type": "execute_result"
    }
   ],
   "source": [
    "dataframe.review[13]"
   ]
  },
  {
   "cell_type": "code",
   "execution_count": 8,
   "metadata": {
    "colab": {
     "base_uri": "https://localhost:8080/",
     "height": 80
    },
    "id": "Lv-p8HEu6XFq",
    "outputId": "8822950b-55b4-4fb0-eadf-f323f9562330"
   },
   "outputs": [
    {
     "data": {
      "text/html": [
       "<div>\n",
       "<style scoped>\n",
       "    .dataframe tbody tr th:only-of-type {\n",
       "        vertical-align: middle;\n",
       "    }\n",
       "\n",
       "    .dataframe tbody tr th {\n",
       "        vertical-align: top;\n",
       "    }\n",
       "\n",
       "    .dataframe thead th {\n",
       "        text-align: right;\n",
       "    }\n",
       "</style>\n",
       "<table border=\"1\" class=\"dataframe\">\n",
       "  <thead>\n",
       "    <tr style=\"text-align: right;\">\n",
       "      <th></th>\n",
       "      <th>dp_total</th>\n",
       "    </tr>\n",
       "  </thead>\n",
       "  <tbody>\n",
       "    <tr>\n",
       "      <th>0</th>\n",
       "      <td>5004.789199</td>\n",
       "    </tr>\n",
       "  </tbody>\n",
       "</table>\n",
       "</div>"
      ],
      "text/plain": [
       "      dp_total\n",
       "0  5004.789199"
      ]
     },
     "execution_count": 8,
     "metadata": {},
     "output_type": "execute_result"
    }
   ],
   "source": [
    "r = client.query('SELECT COUNT(*) AS dp_total FROM imdb_reviews', target_epsilon=0.5)\n",
    "pd.DataFrame(r['result'], columns=r['columns'])"
   ]
  },
  {
   "cell_type": "code",
   "execution_count": 9,
   "metadata": {
    "colab": {
     "base_uri": "https://localhost:8080/",
     "height": 80
    },
    "id": "fPtPzJFuy6AX",
    "outputId": "36005848-f39a-4540-f7ab-fa7e8d00748d"
   },
   "outputs": [
    {
     "data": {
      "text/html": [
       "<div>\n",
       "<style scoped>\n",
       "    .dataframe tbody tr th:only-of-type {\n",
       "        vertical-align: middle;\n",
       "    }\n",
       "\n",
       "    .dataframe tbody tr th {\n",
       "        vertical-align: top;\n",
       "    }\n",
       "\n",
       "    .dataframe thead th {\n",
       "        text-align: right;\n",
       "    }\n",
       "</style>\n",
       "<table border=\"1\" class=\"dataframe\">\n",
       "  <thead>\n",
       "    <tr style=\"text-align: right;\">\n",
       "      <th></th>\n",
       "      <th>sentiment</th>\n",
       "      <th>dp_total</th>\n",
       "    </tr>\n",
       "  </thead>\n",
       "  <tbody>\n",
       "    <tr>\n",
       "      <th>0</th>\n",
       "      <td>negative</td>\n",
       "      <td>2545.123480</td>\n",
       "    </tr>\n",
       "    <tr>\n",
       "      <th>1</th>\n",
       "      <td>positive</td>\n",
       "      <td>2464.239508</td>\n",
       "    </tr>\n",
       "  </tbody>\n",
       "</table>\n",
       "</div>"
      ],
      "text/plain": [
       "  sentiment     dp_total\n",
       "0  negative  2545.123480\n",
       "1  positive  2464.239508"
      ]
     },
     "execution_count": 9,
     "metadata": {},
     "output_type": "execute_result"
    }
   ],
   "source": [
    "r = client.query('SELECT sentiment, COUNT(*) AS dp_total FROM imdb_reviews GROUP BY sentiment', target_epsilon=0.5) \n",
    "pd.DataFrame(r['result'], columns=r['columns'])"
   ]
  },
  {
   "cell_type": "markdown",
   "metadata": {
    "id": "LvfiqyQztVz8"
   },
   "source": [
    "# 3. Build a TensorFlow model with Differential Privacy"
   ]
  },
  {
   "cell_type": "markdown",
   "metadata": {
    "id": "FwfvAsOqFTe8"
   },
   "source": [
    "We define a preprocessing function to:\n",
    "- vectorize text data remotely: convert text into numerical representation based on a predefined vocabulary: **we use the vocabulary of the synthetic data**\n",
    "- create a (X,y) tuple (y = target variable to predict)"
   ]
  },
  {
   "cell_type": "code",
   "execution_count": 10,
   "metadata": {
    "colab": {
     "base_uri": "https://localhost:8080/"
    },
    "id": "Dq5UvUs2IWef",
    "outputId": "78dc3af8-8819-49d5-931a-3260cc4c65ab"
   },
   "outputs": [
    {
     "name": "stdout",
     "output_type": "stream",
     "text": [
      "['', '[UNK]', 'the', 'a', 'and', 'of', 'to', 'is', 'in', 'it', 'this', 'i', 'that', 'br', 'was', 'as', 'with', 'for', 'movie', 'but', 'film', 'on', 'you', 'not', 'are', 'his', 'have', 'be', 'one', 'he', 'its', 'at', 'all', 'by', 'an', 'they', 'from', 'who', 'so', 'like', 'just', 'or', 'about', 'if', 'her', 'out', 'has', 'what', 'some', 'there', 'good', 'when', 'very', 'more', 'even', 'would', 'up', 'no', 'my', 'which', 'she', 'their', 'see', 'time', 'story', 'really', 'were', 'had', 'only', 'can', 'me', 'well', 'much', 'been', 'than', 'because', 'we', 'get', 'into', 'bad', 'will', 'do', 'other', 'first', 'also', 'how', 'people', 'great', 'most', 'dont', 'him', 'movies', 'make', 'way', 'made', 'then', 'any', 'them', 'too', 'films', 'after', 'could', 'characters', 'being', 'watch', 'think', 'never', 'little', 'many', 'character', 'seen', 'plot', 'two', 'where', 'know', 'acting', 'best', 'your', 'did', 'love', 'ever', 'show', 'life', 'does', 'off', 'scene', 'better', 'still', 'say', 'these', 'while', 'over', 'here', 'something', 'go', 'why', 'man', 'end', 'scenes', 'such', 'through', 'should', 'real', 'im', 'watching', 'back', 'before', 'doesnt', 'those', 'actors', 'now', 'thing', 'though', 'new', 'going', 'years', 'didnt', 'work', 'nothing', 'makes', 'look', 'actually', 'us', 'funny', 'lot', 'another', 'same', 'few', 'every', 'find', 'old', 'cant', 'pretty', 'part', 'director', 'again', 'want', 'quite', 'around', 'things', 'down', 'young', 'enough', 'got', 'thats', 'both', 'horror', 'take', 'however', 'seems', 'big', 'cast', 'may', 'must', 'fact', 'come', 'gets', 'world', 'least', 'without', 'thought', 'almost', 'long', 'ive', 'give', 'always', 'original', 'might', 'own', 'whole', 'anything', 'between', 'isnt', 'right', 'saw', 'family', 'feel', 'theres', 'minutes', 'since', 'probably', 'done', 'bit', 'script', 'interesting', 'point', 'comedy', 'times', 'series', 'role', 'action', 'am', 'far', 'performance', 'last', 'yet', 'music', 'guy', 'tv', 'rather', 'played', 'away', 'hes', 'having', 'making', 'anyone', 'our', 'although', 'worst', 'girl', 'each', 'woman', 'comes', 'found', 'goes', 'kind', 'fun', 'sure', 'looks', 'everything', 'shows', 'course', 'watched', 'takes', 'trying', 'put', 'three', 'dvd', 'especially', 'main', 'hard', 'book', 'day', 'american', 'screen', 'believe', 'set', 'once', 'maybe', 'idea', 'ending', 'wasnt', 'effects', 'true', 'someone', 'money', 'john', 'audience', 'worth', 'reason', 'said', 'place', 'looking', 'different', 'sense', 'play', 'instead', 'night', 'job', 'special', 'himself', 'plays', 'during', '10', 'actor', 'simply', 'seem', 'beautiful', 'left', 'shot', 'excellent', '2', 'together', 'war', 'version', 'completely', 'high', 'along', 'read', 'poor', 'mind', 'house', 'help', 'fan', 'everyone', 'youre', 'star', 'seeing', 'else', 'nice', 'used', 'second', 'kids', 'home', 'need', 'short', 'given', 'use', 'line', 'try', 'stupid', 'men', 'later', 'tell', 'boring', 'until', 'performances', 'hollywood', 'production', 'recommend', 'less', 'father', 'wonderful', 'rest', 'next', 'death', 'awful', 'absolutely', 'black', 'year', 'piece', 'classic', 'wife', 'truly', 'human', 'understand', 'terrible', 'getting', 'women', 'small', 'couple', 'remember', 'friends', 'dead', 'often', 'came', 'others', 'name', 'keep', 'school', 'camera', 'video', 'half', 'enjoy', 'either', 'mean', 'based', 'finally', 'doing', 'let', 'playing', 'full', 'person', 'wrong', 'stars', 'game', 'face', 'perhaps', 'worse', 'mother', 'title', 'dialogue', 'budget', 'totally', 'itself', 'gives', 'waste', 'lost', 'evil', 'couldnt', 'start', 'perfect', 'written', 'moments', 'several', 'episode', 'shes', 'entire', 'early', 'youll', 'yes', 'sex', 'liked', 'supposed', 'guys', 'definitely', 'loved', 'become', 'overall', '3', 'lines', 'sort', 'oh', 'case', 'beginning', 'went', 'despite', 'days', 'wants', 'top', 'laugh', 'friend', 'fans', 'picture', 'id', 'humor', 'head', 'felt', 'certainly', 'able', 'girls', '\\x96', 'already', 'sound', 'hope', 'throughout', 'under', 'direction', 'entertaining', 'killer', 'called', 'style', 'seemed', 'dark', 'becomes', 'children', 'turn', 'final', 'problem', 'mr', 'favorite', 'cinema', 'writing', 'soon', 'past', 'lives', 'fine', 'drama', 'wanted', 'care', 'stuff', 'history', 'town', 'low', 'live', 'boy', 'quality', 'matter', 'lead', 'god', 'against', 'white', 'parts', 'example', 'lack', 'gave', 'works', 'theyre', 'brilliant', 'behind', 'extremely', 'enjoyed', 'coming', 'tries', 'turns', 'thinking', 'wont', 'hell', 'eyes', 'themselves', 'leave', 'act', 'son', 'save', 'ones', 'kill', 'horrible', 'heart', '1', 'unfortunately', 'michael', 'ill', 'run', 'guess', 'stop', 'myself', 'amazing', 'viewer', 'fight', 'attempt', 'killed', 'flick', 'expect', 'actress', 'sometimes', 'highly', 'police', 'murder', 'group', 'feeling', 'obviously', 'type', 'slow', 'side', 'english', 'took', 'involved', 'directed', 'told', 'heard', 'city', 'except', 'complete', 'itbr', 'car', 'robert', 'late', 'decent', 'number', 'looked', 'cannot', 'relationship', 'known', 'upon', 'seriously', 'word', 'starts', 'shown', 'art', 'wouldnt', 'violence', 'hour', 'happens', 'body', 'experience', 'serious', 'saying', 'roles', 'reality', 'huge', 'chance', 'usual', 'possible', 'opening', 'moment', 'age', 'cut', 'child', 'lets', 'david', 'across', 'ridiculous', 'close', 'says', 'major', 'cool', 'bring', 'kid', 'annoying', 'talent', 'simple', 'interest', 'british', 'usually', 'obvious', 'happen', 'etc', 'released', 'genre', 'order', 'stories', 'score', 'ok', 'gore', 'brother', 'problems', '5', 'started', 'particularly', 'yourself', 'television', 'including', 'hilarious', 'exactly', 'view', 'silly', 'james', 'basically', 'wonder', 'song', 'rock', 'living', 'important', 'happy', 'alone', 'ago', 'daughter', '4', 'hand', 'ends', 'due', 'disappointed', 'call', 'blood', 'beyond', 'whose', 'none', 'hours', 'taken', 'strong', 'lots', 'documentary', 'anyway', 'words', 'rating', 'hit', 'cinematography', 'apparently', 'power', 'jokes', 'directors', 'cheap', 'novel', 'moviebr', 'mostly', 'local', 'sets', 'husband', 'voice', 'turned', 'today', 'running', 'level', 'knows', 'filmbr', 'whats', 'enjoyable', 'dull', 'arent', 'space', 'taking', 'review', 'havent', 'wish', 'moving', 'clear', 'sad', 'miss', 'hero', 'happened', 'surprise', 'shots', 'events', 'country', 'bunch', 'add', 'tells', 'message', 'feels', 'episodes', '80s', 'talking', 'soundtrack', 'scary', 'please', 'monster', 'female', 'team', 'learn', 'four', 'clearly', 'actual', 'attention', 'animation', 'sequence', 'knew', 'career', 'opinion', 'easy', 'comments', 'above', 'tried', 'subject', 'sorry', 'songs', 'single', 'musical', 'working', 'viewing', 'parents', 'modern', 'king', 'falls', 'doubt', 'comic', 'youve', 'talk', 'somewhat', 'sequences', 'romantic', 'needs', 'filmed', 'room', 'mystery', 'greatest', 'finds', 'buy', 'predictable', 'george', 'suspense', 'die', 'decided', 'change', 'appears', 'whether', 'ten', 'figure', 'expected', 'editing', 'deal', 'dance', 'brought', 'writer', 'rent', 'crew', 'among', 'thriller', 'storyline', 'lame', 'island', 'using', 'supporting', 'named', 'meet', 'giving', 'entertainment', 'elements', 'typical', 'nearly', 'forget', 'famous', 'easily', 'crap', 'viewers', 'truth', 'tom', 'mention', 'killing', 'jack', 'form', 'fantastic', 'lady', 'directing', 'sister', 'showing', 'romance', 'reviews', 'realistic', 'means', 'hate', 'future', 'french', 'earth', 'dialog', 'believable', 'wait', 'towards', 'stay', 'shame', 'within', 'surprised', 'effort', 'begin', 'strange', 'sequel', 'otherwise', 'fall', 'avoid', 'theme', 'release', 'paul', 'near', 'kept', 'japanese', 'gone', 'five', 'boys', 'total', 'certain', 'begins', 'points', 'light', 'crime', 'check', 'average', 'scifi', 'particular', 'open', 'features', 'deep', 'worked', 'theater', 'sit', 'realize', 'indeed', 'imdb', 'earlier', 'whom', 'question', 'plain', 'middle', 'memorable', 'various', 'screenplay', 'premise', 'period', 'hot', 'doctor', 'disney', 'plus', 'peter', 'needed', 'material', 'leads', 'general', 'dr', 'herself', 'hear', 'nor', 'meets', 'footage', 'difficult', 'atmosphere', 'whos', 'weak', 'similar', 'rich', 'move', 'eye', 'effect', 'whatever', 'somehow', 'laughs', '20', 'richard', 'missing', 'mark', 'class', 'straight', 'quickly', 'perfectly', 'development', 'water', 'tale', 'situation', 'cute', 'box', 'york', 'stage', 'setting', 'portrayed', 'follow', 'feature', 'pure', 'possibly', 'personal', 'leading', 'eventually', 'de', 'business', 'result', 'reasons', 'powerful', 'list', 'imagine', 'credits', 'crazy', 'became', 'success', 'stand', 'okay', 'leaves', 'dumb', 'battle', 'appear', 'america', 'ways', 'sexual', 'season', 'remake', 'minute', 'laughing', 'fire', 'fast', 'brings', 'married', 'hold', 'note', 'hands', 'dramatic', 'caught', 'casting', 'incredibly', 'girlfriend', 'following', 'filmmakers', 'dog', 'apart', 'wasted', 'talented', 'party', 'masterpiece', 'forward', 'fails', 'mentioned', 'cheesy', 'audiences', 'sounds', 'previous', 'poorly', 'mess', 'fairly', 'attempts', 'writers', 'older', 'forced', 'deserves', 'creepy', 'secret', 'create', 'baby', 'alien', 'admit', 'acted', 'william', 'weird', 'match', 'hardly', 'company', 'b', 'unless', 'outside', 'large', 'expecting', 'escape', 'air', 'write', 'street', 'project', 'gun', 'free', 'emotional', 'changed', 'bored', 'bill', 'value', 'superb', 'spent', 'members', 'interested']\n"
     ]
    }
   ],
   "source": [
    "import re\n",
    "import string\n",
    "from tensorflow.keras.layers.experimental.preprocessing import TextVectorization\n",
    "\n",
    "# Retrieving the vocabulary of synthetic data to build the Text vectorization layer\n",
    "sds_review = tf.data.Dataset.from_tensor_slices(dataframe.review) \n",
    "\n",
    "max_features = 1000 # Max number of words used from vocabulary. Can be tuned\n",
    "sequence_length = 250 # Output vector size. Can be tuned\n",
    "\n",
    "vectorize_layer = TextVectorization(\n",
    "    standardize='lower_and_strip_punctuation',\n",
    "    max_tokens=max_features,\n",
    "    output_mode='int',\n",
    "    output_sequence_length=sequence_length\n",
    ")\n",
    "\n",
    "vectorize_layer.adapt(sds_review)\n",
    "\n",
    "vocab_data = vectorize_layer.get_vocabulary()\n",
    "\n",
    "print(vocab_data)"
   ]
  },
  {
   "cell_type": "code",
   "execution_count": 11,
   "metadata": {
    "id": "VhKYjyT1ev7w"
   },
   "outputs": [],
   "source": [
    "# Preprocessing function\n",
    "\n",
    "def preprocess(row):\n",
    "  return row['review'][:,None], row['sentiment']#[:,None]\n",
    "\n",
    "# We apply it remotely to the original dataset\n",
    "tf_sds = remote_dataset.as_tensorflow().batch(1000).map(preprocess)"
   ]
  },
  {
   "cell_type": "code",
   "execution_count": 12,
   "metadata": {
    "id": "wFg93-BRicc1"
   },
   "outputs": [],
   "source": [
    "# Model definition function\n",
    "\n",
    "embedding_dim = 16\n",
    "\n",
    "class DNN(Model):\n",
    "  def __init__(self):\n",
    "    super(DNN, self).__init__()\n",
    "    self.vectorize = TextVectorization(\n",
    "        standardize='lower_and_strip_punctuation',\n",
    "        output_mode='int',\n",
    "        output_sequence_length=sequence_length,\n",
    "        vocabulary=vocab_data,\n",
    "    )\n",
    "    self.layer_list = [\n",
    "        Embedding(input_dim=max_features, output_dim=embedding_dim),\n",
    "        GlobalAveragePooling1D(),\n",
    "        Dense(1)\n",
    "    ]\n",
    "\n",
    "  def call(self, x):\n",
    "    x = self.vectorize(x)\n",
    "    for layer in self.layer_list: \n",
    "      x = layer(x)\n",
    "    return x\n",
    "\n",
    "model = DNN()\n",
    "loss = BinaryCrossentropy(from_logits=True)\n",
    "model.compile(\n",
    "    optimizer=Adam(learning_rate=200),\n",
    "    loss=loss,\n",
    "    metrics=tf.metrics.BinaryAccuracy(threshold=0),\n",
    ")"
   ]
  },
  {
   "cell_type": "code",
   "execution_count": 13,
   "metadata": {
    "colab": {
     "base_uri": "https://localhost:8080/"
    },
    "id": "2IDSQwGYHKK0",
    "outputId": "cb8ea36b-4242-45cc-a5ec-fb52bb417ac7"
   },
   "outputs": [
    {
     "name": "stdout",
     "output_type": "stream",
     "text": [
      "Epoch 1/2\n",
      "5/5 [==============================] - 3s 100ms/step - loss: 0.6931 - binary_accuracy: 0.4994\n",
      "Epoch 2/2\n",
      "5/5 [==============================] - 1s 95ms/step - loss: 0.6929 - binary_accuracy: 0.5122\n",
      "\n"
     ]
    },
    {
     "data": {
      "text/plain": [
       "<tensorflow.python.keras.callbacks.History at 0x7f705e3228b0>"
      ]
     },
     "execution_count": 13,
     "metadata": {},
     "output_type": "execute_result"
    }
   ],
   "source": [
    "model.fit(tf_sds, epochs=2, target_epsilon=1)  "
   ]
  },
  {
   "cell_type": "code",
   "execution_count": 14,
   "metadata": {
    "colab": {
     "base_uri": "https://localhost:8080/"
    },
    "id": "i6XuGRFt6nTP",
    "outputId": "089b82a9-5d1f-42e8-e7d0-948b57e79523"
   },
   "outputs": [
    {
     "name": "stdout",
     "output_type": "stream",
     "text": [
      "Model: \"dnn\"\n",
      "_________________________________________________________________\n",
      "Layer (type)                 Output Shape              Param #   \n",
      "=================================================================\n",
      "text_vectorization_1 (TextVe multiple                  0         \n",
      "_________________________________________________________________\n",
      "embedding (Embedding)        multiple                  16000     \n",
      "_________________________________________________________________\n",
      "global_average_pooling1d (Gl multiple                  0         \n",
      "_________________________________________________________________\n",
      "dense (Dense)                multiple                  17        \n",
      "=================================================================\n",
      "Total params: 16,017\n",
      "Trainable params: 16,017\n",
      "Non-trainable params: 0\n",
      "_________________________________________________________________\n",
      "None\n"
     ]
    }
   ],
   "source": [
    "print(model.summary())"
   ]
  }
 ],
 "metadata": {
  "colab": {
   "collapsed_sections": [],
   "name": "Sarus Demo: Analytics & AI with DP - Sentiment analysis on IMDB reviews",
   "provenance": []
  },
  "kernelspec": {
   "display_name": "Python 3",
   "language": "python",
   "name": "python3"
  },
  "language_info": {
   "codemirror_mode": {
    "name": "ipython",
    "version": 3
   },
   "file_extension": ".py",
   "mimetype": "text/x-python",
   "name": "python",
   "nbconvert_exporter": "python",
   "pygments_lexer": "ipython3",
   "version": "3.8.8"
  }
 },
 "nbformat": 4,
 "nbformat_minor": 1
}
